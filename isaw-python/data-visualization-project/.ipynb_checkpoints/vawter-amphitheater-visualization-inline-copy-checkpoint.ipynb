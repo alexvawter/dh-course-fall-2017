{
 "cells": [
  {
   "cell_type": "markdown",
   "metadata": {},
   "source": [
    "Be sure to launch jupyter notebook with a larger data rate limit\n",
    "jupyter notebook --NotebookApp.iopub_data_rate_limit=10000000000"
   ]
  },
  {
   "cell_type": "code",
   "execution_count": 1,
   "metadata": {
    "collapsed": true
   },
   "outputs": [],
   "source": [
    "import pandas as pd\n",
    "import numpy as np\n",
    "\n",
    "%matplotlib inline\n",
    "\n",
    "import matplotlib \n",
    "import matplotlib.pyplot as plt\n",
    "matplotlib.style.use('ggplot')\n",
    "\n",
    "import plotly\n",
    "import plotly.plotly as py\n",
    "import plotly.graph_objs as go\n",
    "import plotly.tools as tls\n",
    "import plotly.figure_factory as FF  \n",
    "\n",
    "tls.set_credentials_file(\n",
    "        username=\"allievawter\", \n",
    "        api_key=\"KIWfIxINkenjTcljA0yw\")\n",
    "\n",
    "import cufflinks as cf #connects pandas + plotly\n",
    "cf.go_online() \n",
    "\n",
    "\n",
    "\n"
   ]
  },
  {
   "cell_type": "markdown",
   "metadata": {},
   "source": [
    "Imported all libraries + chose graph style for matplotlib.s Imported Plotly to work inline (with account)"
   ]
  },
  {
   "cell_type": "code",
   "execution_count": 2,
   "metadata": {
    "collapsed": true
   },
   "outputs": [],
   "source": [
    "df = pd.read_csv(\"http://sfsheath.github.io/roman-amphitheaters/roman-amphitheaters.csv\")"
   ]
  },
  {
   "cell_type": "code",
   "execution_count": 3,
   "metadata": {},
   "outputs": [
    {
     "data": {
      "text/html": [
       "<div>\n",
       "<style>\n",
       "    .dataframe thead tr:only-child th {\n",
       "        text-align: right;\n",
       "    }\n",
       "\n",
       "    .dataframe thead th {\n",
       "        text-align: left;\n",
       "    }\n",
       "\n",
       "    .dataframe tbody tr th {\n",
       "        vertical-align: top;\n",
       "    }\n",
       "</style>\n",
       "<table border=\"1\" class=\"dataframe\">\n",
       "  <thead>\n",
       "    <tr style=\"text-align: right;\">\n",
       "      <th></th>\n",
       "      <th>id</th>\n",
       "      <th>title</th>\n",
       "      <th>label</th>\n",
       "      <th>pleiades</th>\n",
       "      <th>welch</th>\n",
       "      <th>golvin</th>\n",
       "      <th>type</th>\n",
       "      <th>capacity</th>\n",
       "      <th>modcountry</th>\n",
       "      <th>province</th>\n",
       "      <th>...</th>\n",
       "      <th>chronogrp</th>\n",
       "      <th>certainty</th>\n",
       "      <th>youtube</th>\n",
       "      <th>extmajor</th>\n",
       "      <th>extminor</th>\n",
       "      <th>arenamajor</th>\n",
       "      <th>arenaminor</th>\n",
       "      <th>latitude</th>\n",
       "      <th>longitude</th>\n",
       "      <th>elevation</th>\n",
       "    </tr>\n",
       "  </thead>\n",
       "  <tbody>\n",
       "    <tr>\n",
       "      <th>0</th>\n",
       "      <td>duraEuroposAmphitheater</td>\n",
       "      <td>Amphitheater at Dura Europos</td>\n",
       "      <td>Dura</td>\n",
       "      <td>https://pleiades.stoa.org/places/893989</td>\n",
       "      <td>NaN</td>\n",
       "      <td>129.0</td>\n",
       "      <td>amphitheater</td>\n",
       "      <td>1000.0</td>\n",
       "      <td>Syria</td>\n",
       "      <td>syria</td>\n",
       "      <td>...</td>\n",
       "      <td>severan</td>\n",
       "      <td>NaN</td>\n",
       "      <td>NaN</td>\n",
       "      <td>50.0</td>\n",
       "      <td>44.0</td>\n",
       "      <td>31.0</td>\n",
       "      <td>25.0</td>\n",
       "      <td>34.749855</td>\n",
       "      <td>40.728926</td>\n",
       "      <td>223</td>\n",
       "    </tr>\n",
       "    <tr>\n",
       "      <th>1</th>\n",
       "      <td>arlesAmphitheater</td>\n",
       "      <td>Amphitheater at Arles</td>\n",
       "      <td>Arles</td>\n",
       "      <td>https://pleiades.stoa.org/places/148217</td>\n",
       "      <td>NaN</td>\n",
       "      <td>154.0</td>\n",
       "      <td>amphitheater</td>\n",
       "      <td>20000.0</td>\n",
       "      <td>France</td>\n",
       "      <td>narbonensis</td>\n",
       "      <td>...</td>\n",
       "      <td>flavian</td>\n",
       "      <td>NaN</td>\n",
       "      <td>https://www.youtube.com/watch?v=oCz-76hb1LU</td>\n",
       "      <td>136.0</td>\n",
       "      <td>107.0</td>\n",
       "      <td>47.0</td>\n",
       "      <td>32.0</td>\n",
       "      <td>43.677778</td>\n",
       "      <td>4.631111</td>\n",
       "      <td>21</td>\n",
       "    </tr>\n",
       "    <tr>\n",
       "      <th>2</th>\n",
       "      <td>lyonAmphitheater</td>\n",
       "      <td>Amphitheater at Lyon</td>\n",
       "      <td>Lyon</td>\n",
       "      <td>https://pleiades.stoa.org/places/167717</td>\n",
       "      <td>NaN</td>\n",
       "      <td>NaN</td>\n",
       "      <td>amphitheater</td>\n",
       "      <td>20000.0</td>\n",
       "      <td>France</td>\n",
       "      <td>lugdunensis</td>\n",
       "      <td>...</td>\n",
       "      <td>second-century</td>\n",
       "      <td>NaN</td>\n",
       "      <td>NaN</td>\n",
       "      <td>105.0</td>\n",
       "      <td>NaN</td>\n",
       "      <td>67.6</td>\n",
       "      <td>42.0</td>\n",
       "      <td>45.770556</td>\n",
       "      <td>4.830556</td>\n",
       "      <td>206</td>\n",
       "    </tr>\n",
       "    <tr>\n",
       "      <th>3</th>\n",
       "      <td>ludusMagnusArena</td>\n",
       "      <td>Ludus Magnus Arena</td>\n",
       "      <td>Ludus Magnus</td>\n",
       "      <td>https://pleiades.stoa.org/places/423025</td>\n",
       "      <td>NaN</td>\n",
       "      <td>NaN</td>\n",
       "      <td>practice-arena</td>\n",
       "      <td>NaN</td>\n",
       "      <td>Italy</td>\n",
       "      <td>NaN</td>\n",
       "      <td>...</td>\n",
       "      <td>imperial</td>\n",
       "      <td>NaN</td>\n",
       "      <td>NaN</td>\n",
       "      <td>NaN</td>\n",
       "      <td>NaN</td>\n",
       "      <td>NaN</td>\n",
       "      <td>NaN</td>\n",
       "      <td>41.889950</td>\n",
       "      <td>12.494913</td>\n",
       "      <td>22</td>\n",
       "    </tr>\n",
       "    <tr>\n",
       "      <th>4</th>\n",
       "      <td>romeFlavianAmphitheater</td>\n",
       "      <td>Flavian Amphitheater at Rome</td>\n",
       "      <td>Colosseum</td>\n",
       "      <td>https://pleiades.stoa.org/places/423025</td>\n",
       "      <td>NaN</td>\n",
       "      <td>152.0</td>\n",
       "      <td>amphitheater</td>\n",
       "      <td>50000.0</td>\n",
       "      <td>Italy</td>\n",
       "      <td>NaN</td>\n",
       "      <td>...</td>\n",
       "      <td>flavian</td>\n",
       "      <td>NaN</td>\n",
       "      <td>https://www.youtube.com/watch?v=kxwenPo1grc</td>\n",
       "      <td>189.0</td>\n",
       "      <td>156.0</td>\n",
       "      <td>83.0</td>\n",
       "      <td>48.0</td>\n",
       "      <td>41.890169</td>\n",
       "      <td>12.492269</td>\n",
       "      <td>22</td>\n",
       "    </tr>\n",
       "    <tr>\n",
       "      <th>5</th>\n",
       "      <td>romeAmphitheatrumCastrense</td>\n",
       "      <td>Amphitheatrum Castrense (Rome)</td>\n",
       "      <td>Amph. Castrense</td>\n",
       "      <td>https://pleiades.stoa.org/places/423025</td>\n",
       "      <td>NaN</td>\n",
       "      <td>189.0</td>\n",
       "      <td>amphitheater</td>\n",
       "      <td>7000.0</td>\n",
       "      <td>Italy</td>\n",
       "      <td>NaN</td>\n",
       "      <td>...</td>\n",
       "      <td>severan</td>\n",
       "      <td>NaN</td>\n",
       "      <td>NaN</td>\n",
       "      <td>88.0</td>\n",
       "      <td>75.8</td>\n",
       "      <td>NaN</td>\n",
       "      <td>NaN</td>\n",
       "      <td>41.887715</td>\n",
       "      <td>12.515144</td>\n",
       "      <td>48</td>\n",
       "    </tr>\n",
       "    <tr>\n",
       "      <th>6</th>\n",
       "      <td>eleutheropolisAmphitheater</td>\n",
       "      <td>Amphitheater at Eleutheropolis</td>\n",
       "      <td>Eleutheropolis</td>\n",
       "      <td>https://pleiades.stoa.org/places/687854</td>\n",
       "      <td>NaN</td>\n",
       "      <td>NaN</td>\n",
       "      <td>amphitheater</td>\n",
       "      <td>3500.0</td>\n",
       "      <td>Israel</td>\n",
       "      <td>judaea</td>\n",
       "      <td>...</td>\n",
       "      <td>second-century</td>\n",
       "      <td>NaN</td>\n",
       "      <td>https://www.youtube.com/watch?v=bA6YNf8ZwlI</td>\n",
       "      <td>71.0</td>\n",
       "      <td>56.0</td>\n",
       "      <td>47.0</td>\n",
       "      <td>38.0</td>\n",
       "      <td>31.608189</td>\n",
       "      <td>34.893845</td>\n",
       "      <td>253</td>\n",
       "    </tr>\n",
       "  </tbody>\n",
       "</table>\n",
       "<p>7 rows × 21 columns</p>\n",
       "</div>"
      ],
      "text/plain": [
       "                           id                           title  \\\n",
       "0     duraEuroposAmphitheater    Amphitheater at Dura Europos   \n",
       "1           arlesAmphitheater           Amphitheater at Arles   \n",
       "2            lyonAmphitheater            Amphitheater at Lyon   \n",
       "3            ludusMagnusArena              Ludus Magnus Arena   \n",
       "4     romeFlavianAmphitheater    Flavian Amphitheater at Rome   \n",
       "5  romeAmphitheatrumCastrense  Amphitheatrum Castrense (Rome)   \n",
       "6  eleutheropolisAmphitheater  Amphitheater at Eleutheropolis   \n",
       "\n",
       "             label                                 pleiades  welch  golvin  \\\n",
       "0             Dura  https://pleiades.stoa.org/places/893989    NaN   129.0   \n",
       "1            Arles  https://pleiades.stoa.org/places/148217    NaN   154.0   \n",
       "2             Lyon  https://pleiades.stoa.org/places/167717    NaN     NaN   \n",
       "3     Ludus Magnus  https://pleiades.stoa.org/places/423025    NaN     NaN   \n",
       "4        Colosseum  https://pleiades.stoa.org/places/423025    NaN   152.0   \n",
       "5  Amph. Castrense  https://pleiades.stoa.org/places/423025    NaN   189.0   \n",
       "6   Eleutheropolis  https://pleiades.stoa.org/places/687854    NaN     NaN   \n",
       "\n",
       "             type  capacity modcountry     province    ...      \\\n",
       "0    amphitheater    1000.0      Syria        syria    ...       \n",
       "1    amphitheater   20000.0     France  narbonensis    ...       \n",
       "2    amphitheater   20000.0     France  lugdunensis    ...       \n",
       "3  practice-arena       NaN      Italy          NaN    ...       \n",
       "4    amphitheater   50000.0      Italy          NaN    ...       \n",
       "5    amphitheater    7000.0      Italy          NaN    ...       \n",
       "6    amphitheater    3500.0     Israel       judaea    ...       \n",
       "\n",
       "        chronogrp certainty                                      youtube  \\\n",
       "0         severan       NaN                                          NaN   \n",
       "1         flavian       NaN  https://www.youtube.com/watch?v=oCz-76hb1LU   \n",
       "2  second-century       NaN                                          NaN   \n",
       "3        imperial       NaN                                          NaN   \n",
       "4         flavian       NaN  https://www.youtube.com/watch?v=kxwenPo1grc   \n",
       "5         severan       NaN                                          NaN   \n",
       "6  second-century       NaN  https://www.youtube.com/watch?v=bA6YNf8ZwlI   \n",
       "\n",
       "  extmajor  extminor  arenamajor  arenaminor   latitude  longitude  elevation  \n",
       "0     50.0      44.0        31.0        25.0  34.749855  40.728926        223  \n",
       "1    136.0     107.0        47.0        32.0  43.677778   4.631111         21  \n",
       "2    105.0       NaN        67.6        42.0  45.770556   4.830556        206  \n",
       "3      NaN       NaN         NaN         NaN  41.889950  12.494913         22  \n",
       "4    189.0     156.0        83.0        48.0  41.890169  12.492269         22  \n",
       "5     88.0      75.8         NaN         NaN  41.887715  12.515144         48  \n",
       "6     71.0      56.0        47.0        38.0  31.608189  34.893845        253  \n",
       "\n",
       "[7 rows x 21 columns]"
      ]
     },
     "execution_count": 3,
     "metadata": {},
     "output_type": "execute_result"
    }
   ],
   "source": [
    "df.iloc[:7] #used this as a reference for column index + so I would know wh"
   ]
  },
  {
   "cell_type": "code",
   "execution_count": 4,
   "metadata": {},
   "outputs": [
    {
     "data": {
      "text/plain": [
       "<matplotlib.text.Text at 0x1178c8da0>"
      ]
     },
     "execution_count": 4,
     "metadata": {},
     "output_type": "execute_result"
    },
    {
     "data": {
      "image/png": "[encoded data removed]",
      "text/plain": [
       "<matplotlib.figure.Figure at 0x1179916d8>"
      ]
     },
     "metadata": {},
     "output_type": "display_data"
    }
   ],
   "source": [
    "df.plot.scatter('arenamajor', 'arenaminor', c='g',figsize=(10,10))\n",
    "plt.title('Amphitheater Arena Size')\n",
    "plt.xlabel('Arena Major')\n",
    "plt.ylabel('Arena Minor')"
   ]
  },
  {
   "cell_type": "code",
   "execution_count": 5,
   "metadata": {},
   "outputs": [
    {
     "data": {
      "text/plain": [
       "<matplotlib.axes._subplots.AxesSubplot at 0x117945908>"
      ]
     },
     "execution_count": 5,
     "metadata": {},
     "output_type": "execute_result"
    },
    {
     "data": {
      "image/png": "[encoded data removed]",
      "text/plain": [
       "<matplotlib.figure.Figure at 0x116fc5a58>"
      ]
     },
     "metadata": {},
     "output_type": "display_data"
    }
   ],
   "source": [
    "df.boxplot(column='elevation', by= 'modcountry',figsize= (10,10), rot=90)"
   ]
  },
  {
   "cell_type": "code",
   "execution_count": 6,
   "metadata": {
    "collapsed": true
   },
   "outputs": [],
   "source": [
    "df.plot.scatter('arenamajor', 'arenaminor', c='g',figsize=(10,10))\n",
    "plt.title('Amphitheater Arena Size')\n",
    "plt.xlabel('Arena Major')\n",
    "plt.ylabel('Arena Minor')\n",
    "fig = plt.gcf()\n",
    "plot_url = py.iplot_mpl(fig)"
   ]
  },
  {
   "cell_type": "code",
   "execution_count": null,
   "metadata": {
    "collapsed": true
   },
   "outputs": [],
   "source": []
  },
  {
   "cell_type": "code",
   "execution_count": 11,
   "metadata": {},
   "outputs": [
    {
     "data": {
      "text/html": [
       "<iframe id=\"igraph\" scrolling=\"no\" style=\"border:none;\" seamless=\"seamless\" src=\"https://plot.ly/~allievawter/17.embed\" height=\"525px\" width=\"100%\"></iframe>"
      ],
      "text/plain": [
       "<plotly.tools.PlotlyDisplay object>"
      ]
     },
     "execution_count": 11,
     "metadata": {},
     "output_type": "execute_result"
    }
   ],
   "source": [
    "data = [go.Bar(x=df.chronogrp,\n",
    "            y=df.capacity)]\n",
    "\n",
    "py.iplot(data)"
   ]
  },
  {
   "cell_type": "code",
   "execution_count": 12,
   "metadata": {},
   "outputs": [
    {
     "data": {
      "text/html": [
       "<iframe id=\"igraph\" scrolling=\"no\" style=\"border:none;\" seamless=\"seamless\" src=\"https://plot.ly/~allievawter/19.embed\" height=\"525px\" width=\"100%\"></iframe>"
      ],
      "text/plain": [
       "<plotly.tools.PlotlyDisplay object>"
      ]
     },
     "execution_count": 12,
     "metadata": {},
     "output_type": "execute_result"
    }
   ],
   "source": [
    "trace0 = go.Scatter(\n",
    "    x = df.arenamajor,\n",
    "    y = df.arenaminor,\n",
    "    mode = 'markers',\n",
    "    name = 'arena',\n",
    "    marker= dict(size= 14,\n",
    "                    line= dict(width=1),\n",
    "                    color= 'g',\n",
    "                    opacity= 0.3\n",
    "                   ),\n",
    "     text= df.title)\n",
    "    \n",
    "    \n",
    "trace1 = go.Scatter(\n",
    "    x = df.extmajor,\n",
    "    y = df.extminor,\n",
    "    mode = 'markers',\n",
    "    name = 'size',\n",
    "    marker= dict(size= 14,\n",
    "                    line= dict(width=1),\n",
    "                    color= 'b',\n",
    "                    opacity= 0.3\n",
    "                   ),\n",
    "     text= df.title)\n",
    "\n",
    "graph = [trace0, trace1]\n",
    "py.iplot(graph)"
   ]
  },
  {
   "cell_type": "code",
   "execution_count": 115,
   "metadata": {},
   "outputs": [
    {
     "data": {
      "text/plain": [
       "'file:///Users/alexvawter/temp-plot.html'"
      ]
     },
     "execution_count": 115,
     "metadata": {},
     "output_type": "execute_result"
    }
   ],
   "source": [
    "data= [\n",
    "    go.Surface(\n",
    "        z=df.elevation.tolist(), colorscale='Viridis'\n",
    "    )\n",
    "]\n",
    "layout = go.Layout(\n",
    "    title='Amphitheater Elevation',\n",
    "    autosize=False,\n",
    "    width=500,\n",
    "    height=500,\n",
    "    margin=dict(\n",
    "        l=65,\n",
    "        r=50,\n",
    "        b=65,\n",
    "        t=90\n",
    "    )\n",
    ")\n",
    "fig = go.Figure(data=data,layout=layout)\n",
    "py.iplot(fig)"
   ]
  },
  {
   "cell_type": "markdown",
   "metadata": {},
   "source": [
    "Could not get the cell above to show elevation."
   ]
  },
  {
   "cell_type": "code",
   "execution_count": 10,
   "metadata": {},
   "outputs": [
    {
     "data": {
      "text/html": [
       "<iframe id=\"igraph\" scrolling=\"no\" style=\"border:none;\" seamless=\"seamless\" src=\"https://plot.ly/~allievawter/15.embed\" height=\"525px\" width=\"100%\"></iframe>"
      ],
      "text/plain": [
       "<plotly.tools.PlotlyDisplay object>"
      ]
     },
     "execution_count": 10,
     "metadata": {},
     "output_type": "execute_result"
    }
   ],
   "source": [
    "trace0 = go.Box(\n",
    "    y = df.capacity,\n",
    "    name = \"All Points\",\n",
    "    jitter = 0.3,\n",
    "    pointpos = -1.8,\n",
    "    boxpoints = 'all',\n",
    "    hoverinfo = df.label, #does not work\n",
    "    marker = dict(\n",
    "        color = 'rgb(7,40,89)'),\n",
    "    line = dict(\n",
    "        color = 'rgb(7,40,89)')\n",
    ")\n",
    "\n",
    "trace1 = go.Box(\n",
    "    y = df.capacity,\n",
    "    name = \"Only Whiskers\",\n",
    "    boxpoints = False,\n",
    "    marker = dict(\n",
    "        color = 'rgb(9,56,125)'),\n",
    "    line = dict(\n",
    "        color = 'rgb(9,56,125)'),\n",
    ")\n",
    "\n",
    "trace2 = go.Box(\n",
    "    y = df.capacity,\n",
    "    name = \"Suspected Outliers\",\n",
    "    boxpoints = 'suspectedoutliers',\n",
    "    marker = dict(\n",
    "        color = 'rgb(8,81,156)',\n",
    "        outliercolor = 'rgba(219, 64, 82, 0.6)',\n",
    "        line = dict(\n",
    "            outliercolor = 'rgba(219, 64, 82, 0.6)',\n",
    "            outlierwidth = 2)),\n",
    "    line = dict(color = 'rgb(8,81,156)'),\n",
    "    \n",
    ")\n",
    "\n",
    "trace3 = go.Box(\n",
    "    y = df.capacity,\n",
    "    name = \"Whiskers and Outliers\",\n",
    "    boxpoints = 'outliers',\n",
    "    marker = dict(\n",
    "        color = 'rgb(107,174,214)'),\n",
    "    line = dict(\n",
    "        color = 'rgb(107,174,214)'),\n",
    ")\n",
    "\n",
    "data = [trace0,trace1,trace2,trace3]\n",
    "\n",
    "layout = go.Layout(\n",
    "    title = \"Box Plot Styling Outliers\"\n",
    ")\n",
    "\n",
    "fig = go.Figure(data=data,layout=layout)\n",
    "py.iplot(fig)"
   ]
  },
  {
   "cell_type": "code",
   "execution_count": null,
   "metadata": {
    "collapsed": true
   },
   "outputs": [],
   "source": []
  }
 ],
 "metadata": {
  "kernelspec": {
   "display_name": "Python 3",
   "language": "python",
   "name": "python3"
  },
  "language_info": {
   "codemirror_mode": {
    "name": "ipython",
    "version": 3
   },
   "file_extension": ".py",
   "mimetype": "text/x-python",
   "name": "python",
   "nbconvert_exporter": "python",
   "pygments_lexer": "ipython3",
   "version": "3.6.1"
  }
 },
 "nbformat": 4,
 "nbformat_minor": 2
}
