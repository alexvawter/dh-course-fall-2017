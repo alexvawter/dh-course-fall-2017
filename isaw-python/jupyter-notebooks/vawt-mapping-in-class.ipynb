{
 "cells": [
  {
   "cell_type": "code",
   "execution_count": 1,
   "metadata": {
    "collapsed": true
   },
   "outputs": [],
   "source": [
    "import pandas as pd\n",
    "import numpy as np\n",
    "import json\n",
    "import geopandas as gpd\n",
    "\n",
    "import gzip\n",
    "import io\n",
    "import geojsonio\n",
    "import urllib.request"
   ]
  },
  {
   "cell_type": "code",
   "execution_count": 57,
   "metadata": {},
   "outputs": [],
   "source": [
    "df = gpd.read_file(\"https://raw.githubusercontent.com/alexvawter/dh-course-fall-2017/master/isaw-maps/map.geojson\")"
   ]
  },
  {
   "cell_type": "code",
   "execution_count": 61,
   "metadata": {},
   "outputs": [
    {
     "data": {
      "text/html": [
       "<div>\n",
       "<style>\n",
       "    .dataframe thead tr:only-child th {\n",
       "        text-align: right;\n",
       "    }\n",
       "\n",
       "    .dataframe thead th {\n",
       "        text-align: left;\n",
       "    }\n",
       "\n",
       "    .dataframe tbody tr th {\n",
       "        vertical-align: top;\n",
       "    }\n",
       "</style>\n",
       "<table border=\"1\" class=\"dataframe\">\n",
       "  <thead>\n",
       "    <tr style=\"text-align: right;\">\n",
       "      <th></th>\n",
       "      <th>Name</th>\n",
       "      <th>URI</th>\n",
       "      <th>geometry</th>\n",
       "    </tr>\n",
       "  </thead>\n",
       "  <tbody>\n",
       "    <tr>\n",
       "      <th>0</th>\n",
       "      <td>Edessa</td>\n",
       "      <td>658457</td>\n",
       "      <td>POINT (38.781432 37.1625575)</td>\n",
       "    </tr>\n",
       "    <tr>\n",
       "      <th>1</th>\n",
       "      <td>Ephesus</td>\n",
       "      <td>599612</td>\n",
       "      <td>POINT (27.34551256 37.9421)</td>\n",
       "    </tr>\n",
       "    <tr>\n",
       "      <th>2</th>\n",
       "      <td>Constantinople</td>\n",
       "      <td>520998</td>\n",
       "      <td>POINT (28.959006 41.00631144)</td>\n",
       "    </tr>\n",
       "    <tr>\n",
       "      <th>3</th>\n",
       "      <td>Antioch</td>\n",
       "      <td>658381</td>\n",
       "      <td>POINT (36.161749 36.20138)</td>\n",
       "    </tr>\n",
       "    <tr>\n",
       "      <th>4</th>\n",
       "      <td>Sinai</td>\n",
       "      <td>746813</td>\n",
       "      <td>POINT (34 29.5)</td>\n",
       "    </tr>\n",
       "    <tr>\n",
       "      <th>5</th>\n",
       "      <td>Caesarea</td>\n",
       "      <td>658378</td>\n",
       "      <td>POINT (35.903735 37.2525033)</td>\n",
       "    </tr>\n",
       "    <tr>\n",
       "      <th>6</th>\n",
       "      <td>Tabennisi</td>\n",
       "      <td>786125</td>\n",
       "      <td>POINT (26.0996985 32.38018)</td>\n",
       "    </tr>\n",
       "    <tr>\n",
       "      <th>7</th>\n",
       "      <td>Alexandria</td>\n",
       "      <td></td>\n",
       "      <td>POINT (29.55 31.12)</td>\n",
       "    </tr>\n",
       "    <tr>\n",
       "      <th>8</th>\n",
       "      <td>Cucusus</td>\n",
       "      <td></td>\n",
       "      <td>POINT (36.293 38.0116)</td>\n",
       "    </tr>\n",
       "    <tr>\n",
       "      <th>9</th>\n",
       "      <td>Sohag</td>\n",
       "      <td>None</td>\n",
       "      <td>POINT (31.42 26.33)</td>\n",
       "    </tr>\n",
       "  </tbody>\n",
       "</table>\n",
       "</div>"
      ],
      "text/plain": [
       "             Name     URI                       geometry\n",
       "0          Edessa  658457   POINT (38.781432 37.1625575)\n",
       "1         Ephesus  599612    POINT (27.34551256 37.9421)\n",
       "2  Constantinople  520998  POINT (28.959006 41.00631144)\n",
       "3         Antioch  658381     POINT (36.161749 36.20138)\n",
       "4           Sinai  746813                POINT (34 29.5)\n",
       "5        Caesarea  658378   POINT (35.903735 37.2525033)\n",
       "6       Tabennisi  786125    POINT (26.0996985 32.38018)\n",
       "7      Alexandria                    POINT (29.55 31.12)\n",
       "8         Cucusus                 POINT (36.293 38.0116)\n",
       "9           Sohag    None            POINT (31.42 26.33)"
      ]
     },
     "execution_count": 61,
     "metadata": {},
     "output_type": "execute_result"
    }
   ],
   "source": [
    "df.iloc[:10]"
   ]
  },
  {
   "cell_type": "code",
   "execution_count": 67,
   "metadata": {
    "scrolled": true
   },
   "outputs": [
    {
     "data": {
      "text/html": [
       "<div style=\"width:100%;\"><div style=\"position:relative;width:100%;height:0;padding-bottom:60%;\"><iframe src=\"data:text/html;charset=utf-8;base64,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\" style=\"position:absolute;width:100%;height:100%;left:0;top:0;border:none !important;\" allowfullscreen webkitallowfullscreen mozallowfullscreen></iframe></div></div>"
      ],
      "text/plain": [
       "<folium.folium.Map at 0x11c897860>"
      ]
     },
     "execution_count": 67,
     "metadata": {},
     "output_type": "execute_result"
    }
   ],
   "source": [
    "# create map, center it on Edessa\n",
    "m = folium.Map([37.1625575, 38.781432], tiles='CartoDB Positron', zoom_start=7)\n",
    "\n",
    "# add points from loaded geojson file\n",
    "folium.GeoJson(df).add_to(m)\n",
    "\n",
    "# add some markers\n",
    "folium.Marker([37.1625575, 38.781432],\n",
    "              popup='Edessa',\n",
    "              icon=folium.Icon(color='green')\n",
    "             ).add_to(m)\n",
    "folium.Marker([29.5,34],\n",
    "              popup='Mt. Sinai',\n",
    "              icon=folium.Icon(icon='cloud')\n",
    "             ).add_to(m)\n",
    "folium.Marker([26.33,31.42],\n",
    "              popup='White Monastery of Shenoute',\n",
    "              icon=folium.Icon(color='red',icon='info-sign')\n",
    "              ).add_to(m)\n",
    "folium.Marker([32.38018,26.0996985 ],\n",
    "              popup='First Monastery of Pachomius',\n",
    "              icon=folium.Icon(color='red',icon='info-sign')\n",
    "              ).add_to(m)\n",
    "# display map\n",
    "m"
   ]
  },
  {
   "cell_type": "code",
   "execution_count": 70,
   "metadata": {},
   "outputs": [
    {
     "ename": "AttributeError",
     "evalue": "module 'plotly.graph_objs' has no attribute 'layout'",
     "output_type": "error",
     "traceback": [
      "\u001b[0;31m---------------------------------------------------------------------------\u001b[0m",
      "\u001b[0;31mAttributeError\u001b[0m                            Traceback (most recent call last)",
      "\u001b[0;32m<ipython-input-70-bd1857312a8f>\u001b[0m in \u001b[0;36m<module>\u001b[0;34m()\u001b[0m\n\u001b[1;32m      7\u001b[0m     )\n\u001b[1;32m      8\u001b[0m ])\n\u001b[0;32m----> 9\u001b[0;31m layout = graph_objs.layout(\n\u001b[0m\u001b[1;32m     10\u001b[0m     \u001b[0mheight\u001b[0m\u001b[0;34m=\u001b[0m\u001b[0;36m600\u001b[0m\u001b[0;34m,\u001b[0m\u001b[0;34m\u001b[0m\u001b[0m\n\u001b[1;32m     11\u001b[0m     \u001b[0mautosize\u001b[0m\u001b[0;34m=\u001b[0m\u001b[0;32mTrue\u001b[0m\u001b[0;34m,\u001b[0m\u001b[0;34m\u001b[0m\u001b[0m\n",
      "\u001b[0;31mAttributeError\u001b[0m: module 'plotly.graph_objs' has no attribute 'layout'"
     ]
    }
   ],
   "source": [
    "#couldn't get plotly to work but saving for later\n",
    "data = graph_objs.Data([\n",
    "    graph_objs.Scattermapbox(\n",
    "        lat=['37.1625575'],\n",
    "        lon=['38.781432'],\n",
    "        mode='markers',\n",
    "    )\n",
    "])\n",
    "layout = graph_objs.layout(\n",
    "    height=600,\n",
    "    autosize=True,\n",
    "    hovermode='closest',\n",
    "    mapbox=dict(\n",
    "        layers=[\n",
    "            dict(\n",
    "                sourcetype = 'geojson',\n",
    "                source = 'https://raw.githubusercontent.com/alexvawter/dh-course-fall-2017/master/isaw-maps/map.geojson',\n",
    "                type = 'fill',\n",
    "                color = 'rgba(163,22,19,0.8)'\n",
    "            ),\n",
    "            dict(\n",
    "                sourcetype = 'geojson',\n",
    "                source = 'https://raw.githubusercontent.com/plotly/datasets/master/florida-blue-data.json',\n",
    "                type = 'fill',\n",
    "                color = 'rgba(40,0,113,0.8)'\n",
    "            )\n",
    "        ],\n",
    "        accesstoken=mapbox_access_token,\n",
    "        bearing=0,\n",
    "        center=dict(\n",
    "            lat=27.8,\n",
    "            lon=-83\n",
    "        ),\n",
    "        pitch=0,\n",
    "        zoom=5.2,\n",
    "        style='light'\n",
    "    ),\n",
    ")\n",
    "\n",
    "fig = dict(data=data, layout=layout)\n",
    "py.iplot(fig,)"
   ]
  },
  {
   "cell_type": "code",
   "execution_count": 48,
   "metadata": {},
   "outputs": [
    {
     "ename": "TypeError",
     "evalue": "'Series' object is not callable",
     "output_type": "error",
     "traceback": [
      "\u001b[0;31m---------------------------------------------------------------------------\u001b[0m",
      "\u001b[0;31mTypeError\u001b[0m                                 Traceback (most recent call last)",
      "\u001b[0;32m<ipython-input-48-da7f8296d217>\u001b[0m in \u001b[0;36m<module>\u001b[0;34m()\u001b[0m\n\u001b[1;32m     10\u001b[0m         marker= marker(\n\u001b[1;32m     11\u001b[0m             \u001b[0msize\u001b[0m\u001b[0;34m=\u001b[0m\u001b[0;36m17\u001b[0m\u001b[0;34m,\u001b[0m\u001b[0;34m\u001b[0m\u001b[0m\n\u001b[0;32m---> 12\u001b[0;31m             \u001b[0mcolor\u001b[0m\u001b[0;34m=\u001b[0m\u001b[0;34m'rgb(255, 0, 0)'\u001b[0m\u001b[0;34m,\u001b[0m\u001b[0;34m\u001b[0m\u001b[0m\n\u001b[0m\u001b[1;32m     13\u001b[0m \u001b[0;34m\u001b[0m\u001b[0m\n\u001b[1;32m     14\u001b[0m         ),\n",
      "\u001b[0;31mTypeError\u001b[0m: 'Series' object is not callable"
     ]
    }
   ],
   "source": [
    "#couldn't get plotly to work but saving for later\n",
    "site_lat = points.geometry\n",
    "site_lon = points.geometry\n",
    "marker = points.Name\n",
    "\n",
    "points = points([\n",
    "     graph_objs.Scattermapbox(\n",
    "        lat=site_lat,\n",
    "        lon=site_lon,\n",
    "        mode='marker',\n",
    "        marker= marker(\n",
    "            size=17,\n",
    "            color='rgb(255, 0, 0)',\n",
    "            opacity=0.7\n",
    "        ),\n",
    "        text=locations_name,\n",
    "        hoverinfo='text'\n",
    "    ),\n",
    "     graph_objs.Scattermapbox(\n",
    "        lat=rating_one_site_lat,\n",
    "        lon=rating_one_site_lon,\n",
    "        mode='marker',\n",
    "        marker= marker(\n",
    "            size=8,\n",
    "            color='rgb(242, 177, 172)',\n",
    "            opacity=0.7,\n",
    "        ),\n",
    "        hoverinfo='none'\n",
    "    )]\n",
    ")\n",
    "        \n",
    "layout = Layout(\n",
    "    title='Early Christian Sites',\n",
    "    autosize=True,\n",
    "    hovermode='closest',\n",
    "    showlegend=False,\n",
    "    mapbox=dict(\n",
    "        accesstoken=mapbox_access_token,\n",
    "        bearing=0,\n",
    "        center=dict(\n",
    "            lat=38,\n",
    "            lon=37\n",
    "        ),\n",
    "        pitch=0,\n",
    "        zoom=3,\n",
    "        style='light'\n",
    "    ),\n",
    ")\n",
    "\n",
    "fig = dict(points=points, layout=layout)\n",
    "py.iplot(fig)"
   ]
  },
  {
   "cell_type": "code",
   "execution_count": null,
   "metadata": {
    "collapsed": true
   },
   "outputs": [],
   "source": [
    "#importing all plotting \n",
    "import plotly\n",
    "import plotly.plotly as py\n",
    "import plotly.graph_objs as graph_objs\n",
    "import plotly.tools as tls\n",
    "import plotly.figure_factory as FF  \n",
    "\n",
    "#credentials/tokens\n",
    "tls.set_credentials_file(\n",
    "        username=\"allievawter\", \n",
    "        api_key=\"KIWfIxINkenjTcljA0yw\")\n",
    "\n",
    "mapbox_access_token = 'pk.eyJ1IjoiYWxleHZhd3RlciIsImEiOiJjajlvbGIyY2k1aHNoMndtcWVlM3lzNDNrIn0.NwLPkkvu_a0JHoefQt0pPg'\n",
    "\n",
    "import cufflinks as cf #connects pandas + plotly\n",
    "cf.go_online()"
   ]
  }
 ],
 "metadata": {
  "kernelspec": {
   "display_name": "Python 3",
   "language": "python",
   "name": "python3"
  },
  "language_info": {
   "codemirror_mode": {
    "name": "ipython",
    "version": 3
   },
   "file_extension": ".py",
   "mimetype": "text/x-python",
   "name": "python",
   "nbconvert_exporter": "python",
   "pygments_lexer": "ipython3",
   "version": "3.6.1"
  }
 },
 "nbformat": 4,
 "nbformat_minor": 2
}
