{
 "cells": [
  {
   "cell_type": "markdown",
   "metadata": {},
   "source": [
    "#Sayings of the Desert Fathers, an Imagined Network"
   ]
  },
  {
   "cell_type": "markdown",
   "metadata": {},
   "source": [
    "##Alexandria Vawter\n",
    "\n",
    "Necessary Python Packages\n",
    " - pip install jupyter\n",
    " - pip install numpy pandas matplotlib\n",
    " - pip install lxml\n",
    " - pip folium\n",
    " "
   ]
  },
  {
   "cell_type": "markdown",
   "metadata": {},
   "source": [
    "#Imports"
   ]
  },
  {
   "cell_type": "code",
   "execution_count": 11,
   "metadata": {
    "collapsed": true
   },
   "outputs": [],
   "source": [
    "#importing pandas, element tree, url request, and pprint\n",
    "import pandas as pd\n",
    "import numpy as np\n",
    "\n",
    "from lxml import etree\n",
    "from lxml.etree import fromstring\n",
    "\n",
    "import requests\n",
    "import io\n",
    "from io import StringIO, BytesIO\n",
    "\n",
    "from pprint import pprint "
   ]
  },
  {
   "cell_type": "code",
   "execution_count": 12,
   "metadata": {},
   "outputs": [
    {
     "data": {
      "text/html": [
       "<script>requirejs.config({paths: { 'plotly': ['https://cdn.plot.ly/plotly-latest.min']},});if(!window.Plotly) {{require(['plotly'],function(plotly) {window.Plotly=plotly;});}}</script>"
      ],
      "text/vnd.plotly.v1+html": [
       "<script>requirejs.config({paths: { 'plotly': ['https://cdn.plot.ly/plotly-latest.min']},});if(!window.Plotly) {{require(['plotly'],function(plotly) {window.Plotly=plotly;});}}</script>"
      ]
     },
     "metadata": {},
     "output_type": "display_data"
    }
   ],
   "source": [
    "#import mapping/graphing \n",
    "import matplotlib \n",
    "import matplotlib.pyplot as plt\n",
    "matplotlib.style.use('ggplot')\n",
    "\n",
    "import plotly\n",
    "import plotly.plotly as py\n",
    "import plotly.graph_objs as go\n",
    "import plotly.tools as tls\n",
    "from plotly.offline import download_plotlyjs, init_notebook_mode, plot, iplot\n",
    "init_notebook_mode(connected=True)\n",
    "\n",
    "tls.set_credentials_file(\n",
    "        username=\"allievawter\", \n",
    "        api_key=\"KIWfIxINkenjTcljA0yw\")"
   ]
  },
  {
   "cell_type": "markdown",
   "metadata": {},
   "source": [
    "#Load Files from Github"
   ]
  },
  {
   "cell_type": "code",
   "execution_count": 13,
   "metadata": {},
   "outputs": [
    {
     "ename": "ConnectionError",
     "evalue": "HTTPSConnectionPool(host='raw.githubusercontent.com', port=443): Max retries exceeded with url: /alexvawter/dh-course-fall-2017/master/isaw-final/sodf-1.xml (Caused by NewConnectionError('<requests.packages.urllib3.connection.VerifiedHTTPSConnection object at 0x10de40898>: Failed to establish a new connection: [Errno 60] Operation timed out',))",
     "output_type": "error",
     "traceback": [
      "\u001b[0;31m---------------------------------------------------------------------------\u001b[0m",
      "\u001b[0;31mTimeoutError\u001b[0m                              Traceback (most recent call last)",
      "\u001b[0;32m/anaconda/lib/python3.6/site-packages/requests/packages/urllib3/connection.py\u001b[0m in \u001b[0;36m_new_conn\u001b[0;34m(self)\u001b[0m\n\u001b[1;32m    140\u001b[0m             conn = connection.create_connection(\n\u001b[0;32m--> 141\u001b[0;31m                 (self.host, self.port), self.timeout, **extra_kw)\n\u001b[0m\u001b[1;32m    142\u001b[0m \u001b[0;34m\u001b[0m\u001b[0m\n",
      "\u001b[0;32m/anaconda/lib/python3.6/site-packages/requests/packages/urllib3/util/connection.py\u001b[0m in \u001b[0;36mcreate_connection\u001b[0;34m(address, timeout, source_address, socket_options)\u001b[0m\n\u001b[1;32m     82\u001b[0m     \u001b[0;32mif\u001b[0m \u001b[0merr\u001b[0m \u001b[0;32mis\u001b[0m \u001b[0;32mnot\u001b[0m \u001b[0;32mNone\u001b[0m\u001b[0;34m:\u001b[0m\u001b[0;34m\u001b[0m\u001b[0m\n\u001b[0;32m---> 83\u001b[0;31m         \u001b[0;32mraise\u001b[0m \u001b[0merr\u001b[0m\u001b[0;34m\u001b[0m\u001b[0m\n\u001b[0m\u001b[1;32m     84\u001b[0m \u001b[0;34m\u001b[0m\u001b[0m\n",
      "\u001b[0;32m/anaconda/lib/python3.6/site-packages/requests/packages/urllib3/util/connection.py\u001b[0m in \u001b[0;36mcreate_connection\u001b[0;34m(address, timeout, source_address, socket_options)\u001b[0m\n\u001b[1;32m     72\u001b[0m                 \u001b[0msock\u001b[0m\u001b[0;34m.\u001b[0m\u001b[0mbind\u001b[0m\u001b[0;34m(\u001b[0m\u001b[0msource_address\u001b[0m\u001b[0;34m)\u001b[0m\u001b[0;34m\u001b[0m\u001b[0m\n\u001b[0;32m---> 73\u001b[0;31m             \u001b[0msock\u001b[0m\u001b[0;34m.\u001b[0m\u001b[0mconnect\u001b[0m\u001b[0;34m(\u001b[0m\u001b[0msa\u001b[0m\u001b[0;34m)\u001b[0m\u001b[0;34m\u001b[0m\u001b[0m\n\u001b[0m\u001b[1;32m     74\u001b[0m             \u001b[0;32mreturn\u001b[0m \u001b[0msock\u001b[0m\u001b[0;34m\u001b[0m\u001b[0m\n",
      "\u001b[0;31mTimeoutError\u001b[0m: [Errno 60] Operation timed out",
      "\nDuring handling of the above exception, another exception occurred:\n",
      "\u001b[0;31mNewConnectionError\u001b[0m                        Traceback (most recent call last)",
      "\u001b[0;32m/anaconda/lib/python3.6/site-packages/requests/packages/urllib3/connectionpool.py\u001b[0m in \u001b[0;36murlopen\u001b[0;34m(self, method, url, body, headers, retries, redirect, assert_same_host, timeout, pool_timeout, release_conn, chunked, body_pos, **response_kw)\u001b[0m\n\u001b[1;32m    599\u001b[0m                                                   \u001b[0mbody\u001b[0m\u001b[0;34m=\u001b[0m\u001b[0mbody\u001b[0m\u001b[0;34m,\u001b[0m \u001b[0mheaders\u001b[0m\u001b[0;34m=\u001b[0m\u001b[0mheaders\u001b[0m\u001b[0;34m,\u001b[0m\u001b[0;34m\u001b[0m\u001b[0m\n\u001b[0;32m--> 600\u001b[0;31m                                                   chunked=chunked)\n\u001b[0m\u001b[1;32m    601\u001b[0m \u001b[0;34m\u001b[0m\u001b[0m\n",
      "\u001b[0;32m/anaconda/lib/python3.6/site-packages/requests/packages/urllib3/connectionpool.py\u001b[0m in \u001b[0;36m_make_request\u001b[0;34m(self, conn, method, url, timeout, chunked, **httplib_request_kw)\u001b[0m\n\u001b[1;32m    344\u001b[0m         \u001b[0;32mtry\u001b[0m\u001b[0;34m:\u001b[0m\u001b[0;34m\u001b[0m\u001b[0m\n\u001b[0;32m--> 345\u001b[0;31m             \u001b[0mself\u001b[0m\u001b[0;34m.\u001b[0m\u001b[0m_validate_conn\u001b[0m\u001b[0;34m(\u001b[0m\u001b[0mconn\u001b[0m\u001b[0;34m)\u001b[0m\u001b[0;34m\u001b[0m\u001b[0m\n\u001b[0m\u001b[1;32m    346\u001b[0m         \u001b[0;32mexcept\u001b[0m \u001b[0;34m(\u001b[0m\u001b[0mSocketTimeout\u001b[0m\u001b[0;34m,\u001b[0m \u001b[0mBaseSSLError\u001b[0m\u001b[0;34m)\u001b[0m \u001b[0;32mas\u001b[0m \u001b[0me\u001b[0m\u001b[0;34m:\u001b[0m\u001b[0;34m\u001b[0m\u001b[0m\n",
      "\u001b[0;32m/anaconda/lib/python3.6/site-packages/requests/packages/urllib3/connectionpool.py\u001b[0m in \u001b[0;36m_validate_conn\u001b[0;34m(self, conn)\u001b[0m\n\u001b[1;32m    843\u001b[0m         \u001b[0;32mif\u001b[0m \u001b[0;32mnot\u001b[0m \u001b[0mgetattr\u001b[0m\u001b[0;34m(\u001b[0m\u001b[0mconn\u001b[0m\u001b[0;34m,\u001b[0m \u001b[0;34m'sock'\u001b[0m\u001b[0;34m,\u001b[0m \u001b[0;32mNone\u001b[0m\u001b[0;34m)\u001b[0m\u001b[0;34m:\u001b[0m  \u001b[0;31m# AppEngine might not have  `.sock`\u001b[0m\u001b[0;34m\u001b[0m\u001b[0m\n\u001b[0;32m--> 844\u001b[0;31m             \u001b[0mconn\u001b[0m\u001b[0;34m.\u001b[0m\u001b[0mconnect\u001b[0m\u001b[0;34m(\u001b[0m\u001b[0;34m)\u001b[0m\u001b[0;34m\u001b[0m\u001b[0m\n\u001b[0m\u001b[1;32m    845\u001b[0m \u001b[0;34m\u001b[0m\u001b[0m\n",
      "\u001b[0;32m/anaconda/lib/python3.6/site-packages/requests/packages/urllib3/connection.py\u001b[0m in \u001b[0;36mconnect\u001b[0;34m(self)\u001b[0m\n\u001b[1;32m    283\u001b[0m         \u001b[0;31m# Add certificate verification\u001b[0m\u001b[0;34m\u001b[0m\u001b[0;34m\u001b[0m\u001b[0m\n\u001b[0;32m--> 284\u001b[0;31m         \u001b[0mconn\u001b[0m \u001b[0;34m=\u001b[0m \u001b[0mself\u001b[0m\u001b[0;34m.\u001b[0m\u001b[0m_new_conn\u001b[0m\u001b[0;34m(\u001b[0m\u001b[0;34m)\u001b[0m\u001b[0;34m\u001b[0m\u001b[0m\n\u001b[0m\u001b[1;32m    285\u001b[0m \u001b[0;34m\u001b[0m\u001b[0m\n",
      "\u001b[0;32m/anaconda/lib/python3.6/site-packages/requests/packages/urllib3/connection.py\u001b[0m in \u001b[0;36m_new_conn\u001b[0;34m(self)\u001b[0m\n\u001b[1;32m    149\u001b[0m             raise NewConnectionError(\n\u001b[0;32m--> 150\u001b[0;31m                 self, \"Failed to establish a new connection: %s\" % e)\n\u001b[0m\u001b[1;32m    151\u001b[0m \u001b[0;34m\u001b[0m\u001b[0m\n",
      "\u001b[0;31mNewConnectionError\u001b[0m: <requests.packages.urllib3.connection.VerifiedHTTPSConnection object at 0x10de40898>: Failed to establish a new connection: [Errno 60] Operation timed out",
      "\nDuring handling of the above exception, another exception occurred:\n",
      "\u001b[0;31mMaxRetryError\u001b[0m                             Traceback (most recent call last)",
      "\u001b[0;32m/anaconda/lib/python3.6/site-packages/requests/adapters.py\u001b[0m in \u001b[0;36msend\u001b[0;34m(self, request, stream, timeout, verify, cert, proxies)\u001b[0m\n\u001b[1;32m    437\u001b[0m                     \u001b[0mretries\u001b[0m\u001b[0;34m=\u001b[0m\u001b[0mself\u001b[0m\u001b[0;34m.\u001b[0m\u001b[0mmax_retries\u001b[0m\u001b[0;34m,\u001b[0m\u001b[0;34m\u001b[0m\u001b[0m\n\u001b[0;32m--> 438\u001b[0;31m                     \u001b[0mtimeout\u001b[0m\u001b[0;34m=\u001b[0m\u001b[0mtimeout\u001b[0m\u001b[0;34m\u001b[0m\u001b[0m\n\u001b[0m\u001b[1;32m    439\u001b[0m                 )\n",
      "\u001b[0;32m/anaconda/lib/python3.6/site-packages/requests/packages/urllib3/connectionpool.py\u001b[0m in \u001b[0;36murlopen\u001b[0;34m(self, method, url, body, headers, retries, redirect, assert_same_host, timeout, pool_timeout, release_conn, chunked, body_pos, **response_kw)\u001b[0m\n\u001b[1;32m    648\u001b[0m             retries = retries.increment(method, url, error=e, _pool=self,\n\u001b[0;32m--> 649\u001b[0;31m                                         _stacktrace=sys.exc_info()[2])\n\u001b[0m\u001b[1;32m    650\u001b[0m             \u001b[0mretries\u001b[0m\u001b[0;34m.\u001b[0m\u001b[0msleep\u001b[0m\u001b[0;34m(\u001b[0m\u001b[0;34m)\u001b[0m\u001b[0;34m\u001b[0m\u001b[0m\n",
      "\u001b[0;32m/anaconda/lib/python3.6/site-packages/requests/packages/urllib3/util/retry.py\u001b[0m in \u001b[0;36mincrement\u001b[0;34m(self, method, url, response, error, _pool, _stacktrace)\u001b[0m\n\u001b[1;32m    387\u001b[0m         \u001b[0;32mif\u001b[0m \u001b[0mnew_retry\u001b[0m\u001b[0;34m.\u001b[0m\u001b[0mis_exhausted\u001b[0m\u001b[0;34m(\u001b[0m\u001b[0;34m)\u001b[0m\u001b[0;34m:\u001b[0m\u001b[0;34m\u001b[0m\u001b[0m\n\u001b[0;32m--> 388\u001b[0;31m             \u001b[0;32mraise\u001b[0m \u001b[0mMaxRetryError\u001b[0m\u001b[0;34m(\u001b[0m\u001b[0m_pool\u001b[0m\u001b[0;34m,\u001b[0m \u001b[0murl\u001b[0m\u001b[0;34m,\u001b[0m \u001b[0merror\u001b[0m \u001b[0;32mor\u001b[0m \u001b[0mResponseError\u001b[0m\u001b[0;34m(\u001b[0m\u001b[0mcause\u001b[0m\u001b[0;34m)\u001b[0m\u001b[0;34m)\u001b[0m\u001b[0;34m\u001b[0m\u001b[0m\n\u001b[0m\u001b[1;32m    389\u001b[0m \u001b[0;34m\u001b[0m\u001b[0m\n",
      "\u001b[0;31mMaxRetryError\u001b[0m: HTTPSConnectionPool(host='raw.githubusercontent.com', port=443): Max retries exceeded with url: /alexvawter/dh-course-fall-2017/master/isaw-final/sodf-1.xml (Caused by NewConnectionError('<requests.packages.urllib3.connection.VerifiedHTTPSConnection object at 0x10de40898>: Failed to establish a new connection: [Errno 60] Operation timed out',))",
      "\nDuring handling of the above exception, another exception occurred:\n",
      "\u001b[0;31mConnectionError\u001b[0m                           Traceback (most recent call last)",
      "\u001b[0;32m<ipython-input-13-7ca1fea20c3f>\u001b[0m in \u001b[0;36m<module>\u001b[0;34m()\u001b[0m\n\u001b[1;32m      1\u001b[0m \u001b[0;31m#load xml\u001b[0m\u001b[0;34m\u001b[0m\u001b[0;34m\u001b[0m\u001b[0m\n\u001b[0;32m----> 2\u001b[0;31m \u001b[0mr\u001b[0m \u001b[0;34m=\u001b[0m \u001b[0mrequests\u001b[0m\u001b[0;34m.\u001b[0m\u001b[0mget\u001b[0m\u001b[0;34m(\u001b[0m\u001b[0;34m'https://raw.githubusercontent.com/alexvawter/dh-course-fall-2017/master/isaw-final/sodf-1.xml'\u001b[0m\u001b[0;34m)\u001b[0m\u001b[0;34m\u001b[0m\u001b[0m\n\u001b[0m",
      "\u001b[0;32m/anaconda/lib/python3.6/site-packages/requests/api.py\u001b[0m in \u001b[0;36mget\u001b[0;34m(url, params, **kwargs)\u001b[0m\n\u001b[1;32m     70\u001b[0m \u001b[0;34m\u001b[0m\u001b[0m\n\u001b[1;32m     71\u001b[0m     \u001b[0mkwargs\u001b[0m\u001b[0;34m.\u001b[0m\u001b[0msetdefault\u001b[0m\u001b[0;34m(\u001b[0m\u001b[0;34m'allow_redirects'\u001b[0m\u001b[0;34m,\u001b[0m \u001b[0;32mTrue\u001b[0m\u001b[0;34m)\u001b[0m\u001b[0;34m\u001b[0m\u001b[0m\n\u001b[0;32m---> 72\u001b[0;31m     \u001b[0;32mreturn\u001b[0m \u001b[0mrequest\u001b[0m\u001b[0;34m(\u001b[0m\u001b[0;34m'get'\u001b[0m\u001b[0;34m,\u001b[0m \u001b[0murl\u001b[0m\u001b[0;34m,\u001b[0m \u001b[0mparams\u001b[0m\u001b[0;34m=\u001b[0m\u001b[0mparams\u001b[0m\u001b[0;34m,\u001b[0m \u001b[0;34m**\u001b[0m\u001b[0mkwargs\u001b[0m\u001b[0;34m)\u001b[0m\u001b[0;34m\u001b[0m\u001b[0m\n\u001b[0m\u001b[1;32m     73\u001b[0m \u001b[0;34m\u001b[0m\u001b[0m\n\u001b[1;32m     74\u001b[0m \u001b[0;34m\u001b[0m\u001b[0m\n",
      "\u001b[0;32m/anaconda/lib/python3.6/site-packages/requests/api.py\u001b[0m in \u001b[0;36mrequest\u001b[0;34m(method, url, **kwargs)\u001b[0m\n\u001b[1;32m     56\u001b[0m     \u001b[0;31m# cases, and look like a memory leak in others.\u001b[0m\u001b[0;34m\u001b[0m\u001b[0;34m\u001b[0m\u001b[0m\n\u001b[1;32m     57\u001b[0m     \u001b[0;32mwith\u001b[0m \u001b[0msessions\u001b[0m\u001b[0;34m.\u001b[0m\u001b[0mSession\u001b[0m\u001b[0;34m(\u001b[0m\u001b[0;34m)\u001b[0m \u001b[0;32mas\u001b[0m \u001b[0msession\u001b[0m\u001b[0;34m:\u001b[0m\u001b[0;34m\u001b[0m\u001b[0m\n\u001b[0;32m---> 58\u001b[0;31m         \u001b[0;32mreturn\u001b[0m \u001b[0msession\u001b[0m\u001b[0;34m.\u001b[0m\u001b[0mrequest\u001b[0m\u001b[0;34m(\u001b[0m\u001b[0mmethod\u001b[0m\u001b[0;34m=\u001b[0m\u001b[0mmethod\u001b[0m\u001b[0;34m,\u001b[0m \u001b[0murl\u001b[0m\u001b[0;34m=\u001b[0m\u001b[0murl\u001b[0m\u001b[0;34m,\u001b[0m \u001b[0;34m**\u001b[0m\u001b[0mkwargs\u001b[0m\u001b[0;34m)\u001b[0m\u001b[0;34m\u001b[0m\u001b[0m\n\u001b[0m\u001b[1;32m     59\u001b[0m \u001b[0;34m\u001b[0m\u001b[0m\n\u001b[1;32m     60\u001b[0m \u001b[0;34m\u001b[0m\u001b[0m\n",
      "\u001b[0;32m/anaconda/lib/python3.6/site-packages/requests/sessions.py\u001b[0m in \u001b[0;36mrequest\u001b[0;34m(self, method, url, params, data, headers, cookies, files, auth, timeout, allow_redirects, proxies, hooks, stream, verify, cert, json)\u001b[0m\n\u001b[1;32m    516\u001b[0m         }\n\u001b[1;32m    517\u001b[0m         \u001b[0msend_kwargs\u001b[0m\u001b[0;34m.\u001b[0m\u001b[0mupdate\u001b[0m\u001b[0;34m(\u001b[0m\u001b[0msettings\u001b[0m\u001b[0;34m)\u001b[0m\u001b[0;34m\u001b[0m\u001b[0m\n\u001b[0;32m--> 518\u001b[0;31m         \u001b[0mresp\u001b[0m \u001b[0;34m=\u001b[0m \u001b[0mself\u001b[0m\u001b[0;34m.\u001b[0m\u001b[0msend\u001b[0m\u001b[0;34m(\u001b[0m\u001b[0mprep\u001b[0m\u001b[0;34m,\u001b[0m \u001b[0;34m**\u001b[0m\u001b[0msend_kwargs\u001b[0m\u001b[0;34m)\u001b[0m\u001b[0;34m\u001b[0m\u001b[0m\n\u001b[0m\u001b[1;32m    519\u001b[0m \u001b[0;34m\u001b[0m\u001b[0m\n\u001b[1;32m    520\u001b[0m         \u001b[0;32mreturn\u001b[0m \u001b[0mresp\u001b[0m\u001b[0;34m\u001b[0m\u001b[0m\n",
      "\u001b[0;32m/anaconda/lib/python3.6/site-packages/requests/sessions.py\u001b[0m in \u001b[0;36msend\u001b[0;34m(self, request, **kwargs)\u001b[0m\n\u001b[1;32m    637\u001b[0m \u001b[0;34m\u001b[0m\u001b[0m\n\u001b[1;32m    638\u001b[0m         \u001b[0;31m# Send the request\u001b[0m\u001b[0;34m\u001b[0m\u001b[0;34m\u001b[0m\u001b[0m\n\u001b[0;32m--> 639\u001b[0;31m         \u001b[0mr\u001b[0m \u001b[0;34m=\u001b[0m \u001b[0madapter\u001b[0m\u001b[0;34m.\u001b[0m\u001b[0msend\u001b[0m\u001b[0;34m(\u001b[0m\u001b[0mrequest\u001b[0m\u001b[0;34m,\u001b[0m \u001b[0;34m**\u001b[0m\u001b[0mkwargs\u001b[0m\u001b[0;34m)\u001b[0m\u001b[0;34m\u001b[0m\u001b[0m\n\u001b[0m\u001b[1;32m    640\u001b[0m \u001b[0;34m\u001b[0m\u001b[0m\n\u001b[1;32m    641\u001b[0m         \u001b[0;31m# Total elapsed time of the request (approximately)\u001b[0m\u001b[0;34m\u001b[0m\u001b[0;34m\u001b[0m\u001b[0m\n",
      "\u001b[0;32m/anaconda/lib/python3.6/site-packages/requests/adapters.py\u001b[0m in \u001b[0;36msend\u001b[0;34m(self, request, stream, timeout, verify, cert, proxies)\u001b[0m\n\u001b[1;32m    500\u001b[0m                 \u001b[0;32mraise\u001b[0m \u001b[0mProxyError\u001b[0m\u001b[0;34m(\u001b[0m\u001b[0me\u001b[0m\u001b[0;34m,\u001b[0m \u001b[0mrequest\u001b[0m\u001b[0;34m=\u001b[0m\u001b[0mrequest\u001b[0m\u001b[0;34m)\u001b[0m\u001b[0;34m\u001b[0m\u001b[0m\n\u001b[1;32m    501\u001b[0m \u001b[0;34m\u001b[0m\u001b[0m\n\u001b[0;32m--> 502\u001b[0;31m             \u001b[0;32mraise\u001b[0m \u001b[0mConnectionError\u001b[0m\u001b[0;34m(\u001b[0m\u001b[0me\u001b[0m\u001b[0;34m,\u001b[0m \u001b[0mrequest\u001b[0m\u001b[0;34m=\u001b[0m\u001b[0mrequest\u001b[0m\u001b[0;34m)\u001b[0m\u001b[0;34m\u001b[0m\u001b[0m\n\u001b[0m\u001b[1;32m    503\u001b[0m \u001b[0;34m\u001b[0m\u001b[0m\n\u001b[1;32m    504\u001b[0m         \u001b[0;32mexcept\u001b[0m \u001b[0mClosedPoolError\u001b[0m \u001b[0;32mas\u001b[0m \u001b[0me\u001b[0m\u001b[0;34m:\u001b[0m\u001b[0;34m\u001b[0m\u001b[0m\n",
      "\u001b[0;31mConnectionError\u001b[0m: HTTPSConnectionPool(host='raw.githubusercontent.com', port=443): Max retries exceeded with url: /alexvawter/dh-course-fall-2017/master/isaw-final/sodf-1.xml (Caused by NewConnectionError('<requests.packages.urllib3.connection.VerifiedHTTPSConnection object at 0x10de40898>: Failed to establish a new connection: [Errno 60] Operation timed out',))"
     ]
    }
   ],
   "source": [
    "#load xml\n",
    "r = requests.get('https://raw.githubusercontent.com/alexvawter/dh-course-fall-2017/master/isaw-final/sodf-1.xml')"
   ]
  },
  {
   "cell_type": "code",
   "execution_count": null,
   "metadata": {},
   "outputs": [],
   "source": [
    "#Preview xml text\n",
    "print(r.text[:1500])"
   ]
  },
  {
   "cell_type": "code",
   "execution_count": null,
   "metadata": {
    "collapsed": true
   },
   "outputs": [],
   "source": [
    "#load refs/names csv\n",
    "url=\"https://raw.githubusercontent.com/alexvawter/dh-course-fall-2017/master/isaw-final/sodf-refs.csv\"\n",
    "s=requests.get(url).content\n",
    "names=pd.read_csv(io.StringIO(s.decode('utf-8')))"
   ]
  },
  {
   "cell_type": "code",
   "execution_count": null,
   "metadata": {
    "collapsed": true
   },
   "outputs": [],
   "source": [
    "#load places csv\n",
    "url=\"https://raw.githubusercontent.com/alexvawter/dh-course-fall-2017/master/isaw-final/sodf-places.csv\"\n",
    "s=requests.get(url).content\n",
    "places=pd.read_csv(io.StringIO(s.decode('utf-8')))"
   ]
  },
  {
   "cell_type": "markdown",
   "metadata": {},
   "source": [
    "#Create ElementTree"
   ]
  },
  {
   "cell_type": "code",
   "execution_count": null,
   "metadata": {
    "collapsed": true
   },
   "outputs": [],
   "source": [
    "#create element tree with lxml\n",
    "#so it can be searched effectively with xquery/xpath/pandas\n",
    "root = etree.fromstring(r.content)"
   ]
  },
  {
   "cell_type": "code",
   "execution_count": 8,
   "metadata": {
    "collapsed": true
   },
   "outputs": [],
   "source": [
    "#because I am working with xml here, \n",
    "#there is often a namespace that is required in every search\n",
    "#This set of code parses the Element Tree created above\n",
    "#and removes the namespace, here: {http://www.tei-c.org/ns/1.0}\n",
    "\n",
    "it = etree.iterparse(BytesIO(r.content))\n",
    "for _, el in it:\n",
    "    if '}' in el.tag:\n",
    "        el.tag = el.tag.split('}', 1)[1] \n",
    "    if '}' in el.attrib:\n",
    "        el.attrib = el.tag.attrib.split('}', 1)[1]\n",
    "root = it.root"
   ]
  },
  {
   "cell_type": "markdown",
   "metadata": {},
   "source": [
    "#Who is in the text?"
   ]
  },
  {
   "cell_type": "markdown",
   "metadata": {},
   "source": [
    "##Names"
   ]
  },
  {
   "cell_type": "code",
   "execution_count": 11,
   "metadata": {},
   "outputs": [
    {
     "name": "stdout",
     "output_type": "stream",
     "text": [
      "['Anthony', 'Anthony', 'Anthony', 'Anthony', 'Anthony', 'Anthony', 'Anthony', 'Poemen', 'Pambo', 'Anthony', 'Anthony', 'Some brothers', 'Anthony', 'hunter', 'Anthony', 'Anthony', 'Anthony', 'Anthony', 'Anthony', 'Anthony', 'Anthony', 'Anthony', 'Anthony', 'Joseph', 'Joseph', 'Anthony', 'Joseph', 'Anthony', 'Anthony', 'Anthony']\n"
     ]
    }
   ],
   "source": [
    "#each monk, anonymous, and named person \n",
    "#has been tagged in the xml with a <persName> tag\n",
    "persons = []\n",
    "for persName in root.findall('.//persName'):\n",
    "    text = persName.text\n",
    "    if text is not None:\n",
    "        persons.append(text)\n",
    "print(persons[:30])"
   ]
  },
  {
   "cell_type": "markdown",
   "metadata": {},
   "source": [
    "##Number of Mentions"
   ]
  },
  {
   "cell_type": "code",
   "execution_count": 12,
   "metadata": {},
   "outputs": [
    {
     "data": {
      "text/plain": [
       "64"
      ]
     },
     "execution_count": 12,
     "metadata": {},
     "output_type": "execute_result"
    }
   ],
   "source": [
    "#make a list from the function above\n",
    "#in order to count the number of times a specific monk is mentioned\n",
    "#Anthony\n",
    "ln = []\n",
    "for persName in root.findall('.//persName'):\n",
    "    text = persName.text\n",
    "    if text is not None:\n",
    "        ln.append(text)\n",
    "ln.count('Anthony')"
   ]
  },
  {
   "cell_type": "code",
   "execution_count": 13,
   "metadata": {},
   "outputs": [
    {
     "data": {
      "text/plain": [
       "6"
      ]
     },
     "execution_count": 13,
     "metadata": {},
     "output_type": "execute_result"
    }
   ],
   "source": [
    "#Elias\n",
    "ln = []\n",
    "for persName in root.findall('.//persName'):\n",
    "    text = persName.text\n",
    "    if text is not None:\n",
    "        ln.append(text)\n",
    "ln.count('Elias')"
   ]
  },
  {
   "cell_type": "code",
   "execution_count": 14,
   "metadata": {},
   "outputs": [
    {
     "name": "stdout",
     "output_type": "stream",
     "text": [
      "{'Anthony': 64, 'Poemen': 213, 'Pambo': 23, 'Some brothers': 2, 'hunter': 1, 'Joseph': 16, 'Elias': 6, 'Doulas': 1, 'Bessarion': 13, 'man possessed with a devil': 1, 'brother': 1, 'one of the brethren': 1, 'Benjamin': 3, 'his sons': 1, 'Daniel': 13, 'A brother': 3, 'The devil': 1, 'Ammoes': 2, 'Arsenius': 4, 'Cyril': 1, 'Zeno': 11, 'Egyptian brother': 1, 'the Faster': 1, 'Macarius': 69, 'Zacharias': 12, 'Moses': 5, 'Isidore': 10, 'old men': 1, 'Agathon': 3, 'Saba': 1, 'Theodore ': 1, 'Theodore of Pherme': 5, 'Theodore': 16, 'a brother': 1, 'Theodore of Enaton': 2, 'Lucius': 3, 'Abraham of ': 1, 'Theodore of ': 1, 'Another old man': 1, 'Theophilus': 7, 'John': 6, 'Hilarion': 2, 'Cassian': 1, 'Cyrus': 1, 'Longinus': 7, 'Matoes': 15}\n"
     ]
    }
   ],
   "source": [
    "#create a dictionary\n",
    "#to list all names and number of mentions\n",
    "d = {}\n",
    "for i in ln:\n",
    "    d[i] = ln.count(i)\n",
    "print (d)"
   ]
  },
  {
   "cell_type": "code",
   "execution_count": 15,
   "metadata": {},
   "outputs": [
    {
     "data": {
      "image/png": "[encoded data removed]",
      "text/plain": [
       "<matplotlib.figure.Figure at 0x10d16f048>"
      ]
     },
     "metadata": {},
     "output_type": "display_data"
    }
   ],
   "source": [
    "#plot the names + number of mentions on a bar graph\n",
    "import matplotlib \n",
    "import matplotlib.pyplot as plt\n",
    "matplotlib.style.use('ggplot')\n",
    "\n",
    "plt.figure(figsize=(10,5))\n",
    "plt.title('Mentions of Names of People in SODF')\n",
    "plt.bar(range(len(d)), d.values(), align='center')\n",
    "plt.xticks(range(len(d)), list(d.keys()), rotation=90,)\n",
    "\n",
    "plt.show()"
   ]
  },
  {
   "cell_type": "markdown",
   "metadata": {},
   "source": [
    "##What Are They Saying?"
   ]
  },
  {
   "cell_type": "markdown",
   "metadata": {},
   "source": [
    "#first we need to find their reference numbers"
   ]
  },
  {
   "cell_type": "code",
   "execution_count": 16,
   "metadata": {},
   "outputs": [
    {
     "data": {
      "text/html": [
       "<div>\n",
       "<style>\n",
       "    .dataframe thead tr:only-child th {\n",
       "        text-align: right;\n",
       "    }\n",
       "\n",
       "    .dataframe thead th {\n",
       "        text-align: left;\n",
       "    }\n",
       "\n",
       "    .dataframe tbody tr th {\n",
       "        vertical-align: top;\n",
       "    }\n",
       "</style>\n",
       "<table border=\"1\" class=\"dataframe\">\n",
       "  <thead>\n",
       "    <tr style=\"text-align: right;\">\n",
       "      <th></th>\n",
       "      <th>ref</th>\n",
       "      <th>name</th>\n",
       "    </tr>\n",
       "  </thead>\n",
       "  <tbody>\n",
       "    <tr>\n",
       "      <th>0</th>\n",
       "      <td>m1</td>\n",
       "      <td>Anthony</td>\n",
       "    </tr>\n",
       "    <tr>\n",
       "      <th>1</th>\n",
       "      <td>m2</td>\n",
       "      <td>Bessarion</td>\n",
       "    </tr>\n",
       "    <tr>\n",
       "      <th>2</th>\n",
       "      <td>m3</td>\n",
       "      <td>Benjamin</td>\n",
       "    </tr>\n",
       "    <tr>\n",
       "      <th>3</th>\n",
       "      <td>m4</td>\n",
       "      <td>Daniel</td>\n",
       "    </tr>\n",
       "    <tr>\n",
       "      <th>4</th>\n",
       "      <td>m5</td>\n",
       "      <td>Zeno</td>\n",
       "    </tr>\n",
       "    <tr>\n",
       "      <th>5</th>\n",
       "      <td>m6</td>\n",
       "      <td>Zacharias</td>\n",
       "    </tr>\n",
       "    <tr>\n",
       "      <th>6</th>\n",
       "      <td>m7</td>\n",
       "      <td>Elias</td>\n",
       "    </tr>\n",
       "    <tr>\n",
       "      <th>7</th>\n",
       "      <td>m8</td>\n",
       "      <td>Theodore of Pherme</td>\n",
       "    </tr>\n",
       "    <tr>\n",
       "      <th>8</th>\n",
       "      <td>m9</td>\n",
       "      <td>Theodore of Enaton</td>\n",
       "    </tr>\n",
       "    <tr>\n",
       "      <th>9</th>\n",
       "      <td>m10</td>\n",
       "      <td>Theodore of Eleutheropolis</td>\n",
       "    </tr>\n",
       "    <tr>\n",
       "      <th>10</th>\n",
       "      <td>m11</td>\n",
       "      <td>Theophilus the Archbishop</td>\n",
       "    </tr>\n",
       "    <tr>\n",
       "      <th>11</th>\n",
       "      <td>m12</td>\n",
       "      <td>John the Cenobite</td>\n",
       "    </tr>\n",
       "    <tr>\n",
       "      <th>12</th>\n",
       "      <td>m13</td>\n",
       "      <td>Isidore the Priest</td>\n",
       "    </tr>\n",
       "    <tr>\n",
       "      <th>13</th>\n",
       "      <td>m14</td>\n",
       "      <td>Joseph of Panephysis</td>\n",
       "    </tr>\n",
       "    <tr>\n",
       "      <th>14</th>\n",
       "      <td>m15</td>\n",
       "      <td>John the Persian</td>\n",
       "    </tr>\n",
       "  </tbody>\n",
       "</table>\n",
       "</div>"
      ],
      "text/plain": [
       "     ref                        name\n",
       "0     m1                     Anthony\n",
       "1     m2                   Bessarion\n",
       "2     m3                    Benjamin\n",
       "3     m4                      Daniel\n",
       "4     m5                        Zeno\n",
       "5     m6                   Zacharias\n",
       "6    m7                        Elias\n",
       "7     m8          Theodore of Pherme\n",
       "8    m9           Theodore of Enaton\n",
       "9    m10  Theodore of Eleutheropolis\n",
       "10  m11    Theophilus the Archbishop\n",
       "11   m12           John the Cenobite\n",
       "12   m13          Isidore the Priest\n",
       "13   m14       Joseph of Panephysis \n",
       "14   m15            John the Persian"
      ]
     },
     "execution_count": 16,
     "metadata": {},
     "output_type": "execute_result"
    }
   ],
   "source": [
    "\n",
    "#each <persName> element has a ref=\"\" attribute containing an id\n",
    "#that is used within the attributes of multiple elements (like <q who=\"\">)\n",
    "#to refer to that same person throughout the text\n",
    "#the id/name pairs are stored in a csv we called earlier\n",
    "names.iloc[:15]"
   ]
  },
  {
   "cell_type": "markdown",
   "metadata": {},
   "source": [
    "#then find some sayings"
   ]
  },
  {
   "cell_type": "code",
   "execution_count": 17,
   "metadata": {},
   "outputs": [
    {
     "data": {
      "text/html": [
       "<div>\n",
       "<style>\n",
       "    .dataframe thead tr:only-child th {\n",
       "        text-align: right;\n",
       "    }\n",
       "\n",
       "    .dataframe thead th {\n",
       "        text-align: left;\n",
       "    }\n",
       "\n",
       "    .dataframe tbody tr th {\n",
       "        vertical-align: top;\n",
       "    }\n",
       "</style>\n",
       "<table border=\"1\" class=\"dataframe\">\n",
       "  <thead>\n",
       "    <tr style=\"text-align: right;\">\n",
       "      <th></th>\n",
       "      <th>quote</th>\n",
       "      <th>ref</th>\n",
       "    </tr>\n",
       "  </thead>\n",
       "  <tbody>\n",
       "    <tr>\n",
       "      <th>0</th>\n",
       "      <td>'Lord,  I want to be saved but these thoughts ...</td>\n",
       "      <td>m1</td>\n",
       "    </tr>\n",
       "    <tr>\n",
       "      <th>1</th>\n",
       "      <td>'Lord, how is it that some die when they are y...</td>\n",
       "      <td>m1</td>\n",
       "    </tr>\n",
       "    <tr>\n",
       "      <th>2</th>\n",
       "      <td>'Pay attention to what I tell you: whoever you...</td>\n",
       "      <td>m1</td>\n",
       "    </tr>\n",
       "    <tr>\n",
       "      <th>3</th>\n",
       "      <td>'This is the great work of a man: always to ta...</td>\n",
       "      <td>m1</td>\n",
       "    </tr>\n",
       "    <tr>\n",
       "      <th>4</th>\n",
       "      <td>'Put an arrow in your bow and shoot it.'</td>\n",
       "      <td>m1</td>\n",
       "    </tr>\n",
       "    <tr>\n",
       "      <th>5</th>\n",
       "      <td>'Shoot yet again,'</td>\n",
       "      <td>m1</td>\n",
       "    </tr>\n",
       "    <tr>\n",
       "      <th>6</th>\n",
       "      <td>'If I bend my bow so much I will break it.'</td>\n",
       "      <td>a1</td>\n",
       "    </tr>\n",
       "    <tr>\n",
       "      <th>7</th>\n",
       "      <td>'It is the same with the work of God. If we st...</td>\n",
       "      <td>m1</td>\n",
       "    </tr>\n",
       "    <tr>\n",
       "      <th>8</th>\n",
       "      <td>'You have not understood it.'</td>\n",
       "      <td>m1</td>\n",
       "    </tr>\n",
       "    <tr>\n",
       "      <th>9</th>\n",
       "      <td>'How would you explain this saying?'</td>\n",
       "      <td>m1</td>\n",
       "    </tr>\n",
       "    <tr>\n",
       "      <th>10</th>\n",
       "      <td>'I do not know.'</td>\n",
       "      <td>m25</td>\n",
       "    </tr>\n",
       "  </tbody>\n",
       "</table>\n",
       "</div>"
      ],
      "text/plain": [
       "                                                quote  ref\n",
       "0   'Lord,  I want to be saved but these thoughts ...   m1\n",
       "1   'Lord, how is it that some die when they are y...   m1\n",
       "2   'Pay attention to what I tell you: whoever you...   m1\n",
       "3   'This is the great work of a man: always to ta...   m1\n",
       "4            'Put an arrow in your bow and shoot it.'   m1\n",
       "5                                  'Shoot yet again,'   m1\n",
       "6         'If I bend my bow so much I will break it.'   a1\n",
       "7   'It is the same with the work of God. If we st...   m1\n",
       "8                       'You have not understood it.'   m1\n",
       "9                'How would you explain this saying?'   m1\n",
       "10                                   'I do not know.'  m25"
      ]
     },
     "execution_count": 17,
     "metadata": {},
     "output_type": "execute_result"
    }
   ],
   "source": [
    "#create a dictionary\n",
    "#of quotes marked in the xml by the <q> element and who was speaking\n",
    "#each <q> element has the attribute who=\"\" which contains an id\n",
    "#e.g. <q who=\"m1\"> that is equivalent to the dataframe above\n",
    "\n",
    "#then append this dicitonary to a dataframe called sayings\n",
    "\n",
    "sayings = pd.DataFrame()\n",
    "for q in root.findall('.//q'):\n",
    "    quotes = {'ref':q.get('who'),'quote':q.text}\n",
    "    sayings = sayings.append(quotes,ignore_index=True)\n",
    "sayings.iloc[:11]"
   ]
  },
  {
   "cell_type": "code",
   "execution_count": 18,
   "metadata": {},
   "outputs": [
    {
     "data": {
      "text/html": [
       "<div>\n",
       "<style>\n",
       "    .dataframe thead tr:only-child th {\n",
       "        text-align: right;\n",
       "    }\n",
       "\n",
       "    .dataframe thead th {\n",
       "        text-align: left;\n",
       "    }\n",
       "\n",
       "    .dataframe tbody tr th {\n",
       "        vertical-align: top;\n",
       "    }\n",
       "</style>\n",
       "<table border=\"1\" class=\"dataframe\">\n",
       "  <thead>\n",
       "    <tr style=\"text-align: right;\">\n",
       "      <th></th>\n",
       "      <th>quote</th>\n",
       "      <th>ref</th>\n",
       "      <th>name</th>\n",
       "    </tr>\n",
       "  </thead>\n",
       "  <tbody>\n",
       "    <tr>\n",
       "      <th>0</th>\n",
       "      <td>'Lord,  I want to be saved but these thoughts ...</td>\n",
       "      <td>m1</td>\n",
       "      <td>Anthony</td>\n",
       "    </tr>\n",
       "    <tr>\n",
       "      <th>1</th>\n",
       "      <td>'Lord, how is it that some die when they are y...</td>\n",
       "      <td>m1</td>\n",
       "      <td>Anthony</td>\n",
       "    </tr>\n",
       "    <tr>\n",
       "      <th>2</th>\n",
       "      <td>'Pay attention to what I tell you: whoever you...</td>\n",
       "      <td>m1</td>\n",
       "      <td>Anthony</td>\n",
       "    </tr>\n",
       "    <tr>\n",
       "      <th>3</th>\n",
       "      <td>'This is the great work of a man: always to ta...</td>\n",
       "      <td>m1</td>\n",
       "      <td>Anthony</td>\n",
       "    </tr>\n",
       "    <tr>\n",
       "      <th>4</th>\n",
       "      <td>'Put an arrow in your bow and shoot it.'</td>\n",
       "      <td>m1</td>\n",
       "      <td>Anthony</td>\n",
       "    </tr>\n",
       "    <tr>\n",
       "      <th>5</th>\n",
       "      <td>'Shoot yet again,'</td>\n",
       "      <td>m1</td>\n",
       "      <td>Anthony</td>\n",
       "    </tr>\n",
       "    <tr>\n",
       "      <th>6</th>\n",
       "      <td>'It is the same with the work of God. If we st...</td>\n",
       "      <td>m1</td>\n",
       "      <td>Anthony</td>\n",
       "    </tr>\n",
       "    <tr>\n",
       "      <th>7</th>\n",
       "      <td>'You have not understood it.'</td>\n",
       "      <td>m1</td>\n",
       "      <td>Anthony</td>\n",
       "    </tr>\n",
       "    <tr>\n",
       "      <th>8</th>\n",
       "      <td>'How would you explain this saying?'</td>\n",
       "      <td>m1</td>\n",
       "      <td>Anthony</td>\n",
       "    </tr>\n",
       "    <tr>\n",
       "      <th>9</th>\n",
       "      <td>'Indeed, Abba</td>\n",
       "      <td>m1</td>\n",
       "      <td>Anthony</td>\n",
       "    </tr>\n",
       "    <tr>\n",
       "      <th>10</th>\n",
       "      <td>'If I bend my bow so much I will break it.'</td>\n",
       "      <td>a1</td>\n",
       "      <td>anonymous hunter</td>\n",
       "    </tr>\n",
       "  </tbody>\n",
       "</table>\n",
       "</div>"
      ],
      "text/plain": [
       "                                                quote ref               name\n",
       "0   'Lord,  I want to be saved but these thoughts ...  m1            Anthony\n",
       "1   'Lord, how is it that some die when they are y...  m1            Anthony\n",
       "2   'Pay attention to what I tell you: whoever you...  m1            Anthony\n",
       "3   'This is the great work of a man: always to ta...  m1            Anthony\n",
       "4            'Put an arrow in your bow and shoot it.'  m1            Anthony\n",
       "5                                  'Shoot yet again,'  m1            Anthony\n",
       "6   'It is the same with the work of God. If we st...  m1            Anthony\n",
       "7                       'You have not understood it.'  m1            Anthony\n",
       "8                'How would you explain this saying?'  m1            Anthony\n",
       "9                                      'Indeed, Abba   m1            Anthony\n",
       "10        'If I bend my bow so much I will break it.'  a1   anonymous hunter"
      ]
     },
     "execution_count": 18,
     "metadata": {},
     "output_type": "execute_result"
    }
   ],
   "source": [
    "#because the <q> element only preserved the id and not the name,\n",
    "#the id needs to be merged with the names dataframe \n",
    "#so that information can be accessed \n",
    "df1 = sayings.merge(names, on=\"ref\", how = 'inner')\n",
    "df1.iloc[:11]"
   ]
  },
  {
   "cell_type": "markdown",
   "metadata": {},
   "source": [
    "#Now find a saying of a specific person:"
   ]
  },
  {
   "cell_type": "code",
   "execution_count": 19,
   "metadata": {},
   "outputs": [
    {
     "data": {
      "text/plain": [
       "46    'Do not live in a famous place, do not settle close to a man with a great name, and do not lay foundations for building yourself a cell one day.'                                                                                                                              \n",
       "47    'What shall I do, since those who bring things are hurt just as much as those who wish to receive something?\\n        I know what seems right to me: when someone brings me something, I will accept it and I will give it to anyone who asks me for something.'               \n",
       "48    'The Egyptians hide the virtues they possess and ceaselessly accuse themselves of faults they do not have, while the Syrians and Greeks pretend to have virtues they do not have, and hide the faults of which they are guilty.'                                               \n",
       "49    'The brothers have passed over their sins and inquired about heavenly things. This is the interpretation of this saying: \"God alone is pure,\" therefore he said, \"Heaven is not pure.\" '                                                                                       \n",
       "50    'Take a cucumber and eat it. Truly it is only a little thing.'                                                                                                                                                                                                                 \n",
       "51    'Thieves are taken away to punishment. Examine yourself therefore, to see if you can bear punish- ment.'                                                                                                                                                                       \n",
       "52    'You cannot bear punishment,'                                                                                                                                                                                                                                                  \n",
       "53    'Since you cannot bear punishment, do not steal, and do not eat.'                                                                                                                                                                                                              \n",
       "54    'If a man wants God to hear his prayer quickly, then before he prays for anything else, even his own soul, when he stands and stretches out his hands towards God, he must pray with all his heart for his enemies. Through this action God will hear everything that he asks.'\n",
       "55    'Why?'                                                                                                                                                                                                                                                                         \n",
       "56    'In the village you fed yourself through your ears. But go away and from now on eat at the ninth hour and whatever you do, do it secretly.'                                                                                                                                    \n",
       "57    'This way is according to God.'                                                                                                                                                                                                                                                \n",
       "Name: quote, dtype: object"
      ]
     },
     "execution_count": 19,
     "metadata": {},
     "output_type": "execute_result"
    }
   ],
   "source": [
    "#The sayings of Zeno\n",
    "#This can be done with the id of any person!\n",
    "zeno = df1.loc[df1['ref'] == 'm5', ]\n",
    "pd.set_option('display.max_colwidth', -1)\n",
    "zeno.quote.str.strip()"
   ]
  },
  {
   "cell_type": "code",
   "execution_count": 20,
   "metadata": {},
   "outputs": [
    {
     "name": "stdout",
     "output_type": "stream",
     "text": [
      "10    'If I bend my bow so much I will break it.'\n",
      "Name: quote, dtype: object\n"
     ]
    }
   ],
   "source": [
    "#The sayings of the anonymous hunter\n",
    "pd.set_option('display.max_colwidth', -1)\n",
    "hunter = df1.loc[df1['ref'] == 'a1', ]\n",
    "print (hunter.quote)"
   ]
  },
  {
   "cell_type": "markdown",
   "metadata": {},
   "source": [
    "##Conversations?"
   ]
  },
  {
   "cell_type": "code",
   "execution_count": 21,
   "metadata": {},
   "outputs": [
    {
     "data": {
      "text/html": [
       "<div>\n",
       "<style>\n",
       "    .dataframe thead tr:only-child th {\n",
       "        text-align: right;\n",
       "    }\n",
       "\n",
       "    .dataframe thead th {\n",
       "        text-align: left;\n",
       "    }\n",
       "\n",
       "    .dataframe tbody tr th {\n",
       "        vertical-align: top;\n",
       "    }\n",
       "</style>\n",
       "<table border=\"1\" class=\"dataframe\">\n",
       "  <thead>\n",
       "    <tr style=\"text-align: right;\">\n",
       "      <th></th>\n",
       "      <th>active</th>\n",
       "      <th>type</th>\n",
       "      <th>passive</th>\n",
       "      <th>name</th>\n",
       "    </tr>\n",
       "  </thead>\n",
       "  <tbody>\n",
       "    <tr>\n",
       "      <th>0</th>\n",
       "      <td>m1</td>\n",
       "      <td>said-to</td>\n",
       "      <td>m23</td>\n",
       "      <td>monk</td>\n",
       "    </tr>\n",
       "    <tr>\n",
       "      <th>1</th>\n",
       "      <td>g3</td>\n",
       "      <td>visited</td>\n",
       "      <td>m1</td>\n",
       "      <td>vistor</td>\n",
       "    </tr>\n",
       "    <tr>\n",
       "      <th>2</th>\n",
       "      <td>m2</td>\n",
       "      <td>conversation</td>\n",
       "      <td>m26</td>\n",
       "      <td>monk</td>\n",
       "    </tr>\n",
       "    <tr>\n",
       "      <th>3</th>\n",
       "      <td>m2</td>\n",
       "      <td>traveled-to</td>\n",
       "      <td>p2</td>\n",
       "      <td>traveler</td>\n",
       "    </tr>\n",
       "    <tr>\n",
       "      <th>4</th>\n",
       "      <td>m2</td>\n",
       "      <td>lived-in</td>\n",
       "      <td>p1</td>\n",
       "      <td>resident</td>\n",
       "    </tr>\n",
       "    <tr>\n",
       "      <th>5</th>\n",
       "      <td>m2</td>\n",
       "      <td>conversation</td>\n",
       "      <td>a3</td>\n",
       "      <td>monk</td>\n",
       "    </tr>\n",
       "    <tr>\n",
       "      <th>6</th>\n",
       "      <td>m2</td>\n",
       "      <td>conversation</td>\n",
       "      <td>a4</td>\n",
       "      <td>monk</td>\n",
       "    </tr>\n",
       "    <tr>\n",
       "      <th>7</th>\n",
       "      <td>m3</td>\n",
       "      <td>said-to</td>\n",
       "      <td>a5</td>\n",
       "      <td>monk</td>\n",
       "    </tr>\n",
       "    <tr>\n",
       "      <th>8</th>\n",
       "      <td>m4</td>\n",
       "      <td>conversation</td>\n",
       "      <td>a5</td>\n",
       "      <td>monk</td>\n",
       "    </tr>\n",
       "    <tr>\n",
       "      <th>9</th>\n",
       "      <td>m4</td>\n",
       "      <td>conversation</td>\n",
       "      <td>m27</td>\n",
       "      <td>monk</td>\n",
       "    </tr>\n",
       "    <tr>\n",
       "      <th>10</th>\n",
       "      <td>m4</td>\n",
       "      <td>conversation</td>\n",
       "      <td>n1</td>\n",
       "      <td>monk</td>\n",
       "    </tr>\n",
       "  </tbody>\n",
       "</table>\n",
       "</div>"
      ],
      "text/plain": [
       "   active          type passive      name\n",
       "0   m1     said-to       m23     monk    \n",
       "1   g3     visited       m1      vistor  \n",
       "2   m2     conversation  m26     monk    \n",
       "3   m2     traveled-to   p2      traveler\n",
       "4   m2     lived-in      p1      resident\n",
       "5   m2     conversation  a3      monk    \n",
       "6   m2     conversation  a4      monk    \n",
       "7   m3     said-to       a5      monk    \n",
       "8   m4     conversation  a5      monk    \n",
       "9   m4     conversation  m27     monk    \n",
       "10  m4     conversation  n1      monk    "
      ]
     },
     "execution_count": 21,
     "metadata": {},
     "output_type": "execute_result"
    }
   ],
   "source": [
    "#To whom are they saying these things?\n",
    "#a <relation> element preserves conversations with the type=\"\" attribute\n",
    "#first new dataframe from dictionary of relationships (rels)\n",
    "\n",
    "rels = pd.DataFrame()\n",
    "for relation in root.findall('.//relation'):\n",
    "    attrib = relation.attrib    \n",
    "    data = dict(attrib)\n",
    "    rels = rels.append(data,ignore_index=True)\n",
    "rels = rels[['active','type','passive','name']]\n",
    "rels[:11]"
   ]
  },
  {
   "cell_type": "code",
   "execution_count": 22,
   "metadata": {},
   "outputs": [
    {
     "data": {
      "text/html": [
       "<div>\n",
       "<style>\n",
       "    .dataframe thead tr:only-child th {\n",
       "        text-align: right;\n",
       "    }\n",
       "\n",
       "    .dataframe thead th {\n",
       "        text-align: left;\n",
       "    }\n",
       "\n",
       "    .dataframe tbody tr th {\n",
       "        vertical-align: top;\n",
       "    }\n",
       "</style>\n",
       "<table border=\"1\" class=\"dataframe\">\n",
       "  <thead>\n",
       "    <tr style=\"text-align: right;\">\n",
       "      <th></th>\n",
       "      <th>active</th>\n",
       "      <th>type</th>\n",
       "      <th>passive</th>\n",
       "      <th>name</th>\n",
       "    </tr>\n",
       "  </thead>\n",
       "  <tbody>\n",
       "    <tr>\n",
       "      <th>2</th>\n",
       "      <td>m2</td>\n",
       "      <td>conversation</td>\n",
       "      <td>m26</td>\n",
       "      <td>monk</td>\n",
       "    </tr>\n",
       "    <tr>\n",
       "      <th>5</th>\n",
       "      <td>m2</td>\n",
       "      <td>conversation</td>\n",
       "      <td>a3</td>\n",
       "      <td>monk</td>\n",
       "    </tr>\n",
       "    <tr>\n",
       "      <th>6</th>\n",
       "      <td>m2</td>\n",
       "      <td>conversation</td>\n",
       "      <td>a4</td>\n",
       "      <td>monk</td>\n",
       "    </tr>\n",
       "    <tr>\n",
       "      <th>8</th>\n",
       "      <td>m4</td>\n",
       "      <td>conversation</td>\n",
       "      <td>a5</td>\n",
       "      <td>monk</td>\n",
       "    </tr>\n",
       "    <tr>\n",
       "      <th>9</th>\n",
       "      <td>m4</td>\n",
       "      <td>conversation</td>\n",
       "      <td>m27</td>\n",
       "      <td>monk</td>\n",
       "    </tr>\n",
       "    <tr>\n",
       "      <th>10</th>\n",
       "      <td>m4</td>\n",
       "      <td>conversation</td>\n",
       "      <td>n1</td>\n",
       "      <td>monk</td>\n",
       "    </tr>\n",
       "    <tr>\n",
       "      <th>13</th>\n",
       "      <td>m5</td>\n",
       "      <td>conversation</td>\n",
       "      <td>a8</td>\n",
       "      <td>monk</td>\n",
       "    </tr>\n",
       "    <tr>\n",
       "      <th>16</th>\n",
       "      <td>m5</td>\n",
       "      <td>conversation</td>\n",
       "      <td>a9</td>\n",
       "      <td>monk</td>\n",
       "    </tr>\n",
       "    <tr>\n",
       "      <th>18</th>\n",
       "      <td>m6</td>\n",
       "      <td>conversation</td>\n",
       "      <td>m23</td>\n",
       "      <td>monk</td>\n",
       "    </tr>\n",
       "    <tr>\n",
       "      <th>19</th>\n",
       "      <td>m6</td>\n",
       "      <td>conversation</td>\n",
       "      <td>m30,m23,m13</td>\n",
       "      <td>monk</td>\n",
       "    </tr>\n",
       "    <tr>\n",
       "      <th>20</th>\n",
       "      <td>m7</td>\n",
       "      <td>conversation</td>\n",
       "      <td>a11</td>\n",
       "      <td>monk</td>\n",
       "    </tr>\n",
       "  </tbody>\n",
       "</table>\n",
       "</div>"
      ],
      "text/plain": [
       "   active          type      passive  name\n",
       "2   m2     conversation  m26          monk\n",
       "5   m2     conversation  a3           monk\n",
       "6   m2     conversation  a4           monk\n",
       "8   m4     conversation  a5           monk\n",
       "9   m4     conversation  m27          monk\n",
       "10  m4     conversation  n1           monk\n",
       "13  m5     conversation  a8           monk\n",
       "16  m5     conversation  a9           monk\n",
       "18  m6     conversation  m23          monk\n",
       "19  m6     conversation  m30,m23,m13  monk\n",
       "20  m7     conversation  a11          monk"
      ]
     },
     "execution_count": 22,
     "metadata": {},
     "output_type": "execute_result"
    }
   ],
   "source": [
    "#different kinds of relationships have been preserved in the xml\n",
    "#but the \"conversation\" type can answer\n",
    "#To whom are they saying these things?\n",
    "#a new dataframe name conv (conversations) will pull the type info \n",
    "#from the relationship dataframe above\n",
    "conv = rels.loc[rels['type'] == 'conversation']\n",
    "conv[:11]"
   ]
  },
  {
   "cell_type": "code",
   "execution_count": 23,
   "metadata": {},
   "outputs": [
    {
     "data": {
      "text/html": [
       "<div>\n",
       "<style>\n",
       "    .dataframe thead tr:only-child th {\n",
       "        text-align: right;\n",
       "    }\n",
       "\n",
       "    .dataframe thead th {\n",
       "        text-align: left;\n",
       "    }\n",
       "\n",
       "    .dataframe tbody tr th {\n",
       "        vertical-align: top;\n",
       "    }\n",
       "</style>\n",
       "<table border=\"1\" class=\"dataframe\">\n",
       "  <thead>\n",
       "    <tr style=\"text-align: right;\">\n",
       "      <th></th>\n",
       "      <th>active</th>\n",
       "      <th>type</th>\n",
       "      <th>passive</th>\n",
       "      <th>name</th>\n",
       "    </tr>\n",
       "  </thead>\n",
       "  <tbody>\n",
       "    <tr>\n",
       "      <th>4</th>\n",
       "      <td>m2</td>\n",
       "      <td>lived-in</td>\n",
       "      <td>p1</td>\n",
       "      <td>resident</td>\n",
       "    </tr>\n",
       "    <tr>\n",
       "      <th>11</th>\n",
       "      <td>m5</td>\n",
       "      <td>lived-in</td>\n",
       "      <td>p4</td>\n",
       "      <td>resident</td>\n",
       "    </tr>\n",
       "    <tr>\n",
       "      <th>14</th>\n",
       "      <td>m5</td>\n",
       "      <td>lived-in</td>\n",
       "      <td>p1</td>\n",
       "      <td>resident</td>\n",
       "    </tr>\n",
       "    <tr>\n",
       "      <th>21</th>\n",
       "      <td>m7</td>\n",
       "      <td>lived-in</td>\n",
       "      <td>p8</td>\n",
       "      <td>resident</td>\n",
       "    </tr>\n",
       "    <tr>\n",
       "      <th>24</th>\n",
       "      <td>m8</td>\n",
       "      <td>lived-in</td>\n",
       "      <td>p9</td>\n",
       "      <td>resident</td>\n",
       "    </tr>\n",
       "    <tr>\n",
       "      <th>26</th>\n",
       "      <td>m8</td>\n",
       "      <td>lived-in</td>\n",
       "      <td>p1</td>\n",
       "      <td>resident</td>\n",
       "    </tr>\n",
       "    <tr>\n",
       "      <th>28</th>\n",
       "      <td>m29</td>\n",
       "      <td>lived-in</td>\n",
       "      <td>p6</td>\n",
       "      <td>resident</td>\n",
       "    </tr>\n",
       "    <tr>\n",
       "      <th>29</th>\n",
       "      <td>m10</td>\n",
       "      <td>lived-in</td>\n",
       "      <td>p7</td>\n",
       "      <td>resident</td>\n",
       "    </tr>\n",
       "    <tr>\n",
       "      <th>31</th>\n",
       "      <td>m15</td>\n",
       "      <td>lived-in</td>\n",
       "      <td>p8</td>\n",
       "      <td>resident</td>\n",
       "    </tr>\n",
       "    <tr>\n",
       "      <th>33</th>\n",
       "      <td>m21</td>\n",
       "      <td>lived-in</td>\n",
       "      <td>p8</td>\n",
       "      <td>resident</td>\n",
       "    </tr>\n",
       "  </tbody>\n",
       "</table>\n",
       "</div>"
      ],
      "text/plain": [
       "   active      type passive      name\n",
       "4   m2     lived-in  p1      resident\n",
       "11  m5     lived-in  p4      resident\n",
       "14  m5     lived-in  p1      resident\n",
       "21  m7     lived-in  p8      resident\n",
       "24  m8     lived-in  p9      resident\n",
       "26  m8     lived-in  p1      resident\n",
       "28  m29    lived-in  p6      resident\n",
       "29  m10    lived-in  p7      resident\n",
       "31  m15    lived-in  p8      resident\n",
       "33  m21    lived-in  p8      resident"
      ]
     },
     "execution_count": 23,
     "metadata": {},
     "output_type": "execute_result"
    }
   ],
   "source": [
    "#what about the lived-in or visted relationships?\n",
    "#a new dataframe name pla (places) will pull that type info \n",
    "#from the relationship dataframe above\n",
    "vis = rels.loc[rels['type'] == 'visited'],\n",
    "trav = rels.loc[rels['type'] == 'traveled-to'],\n",
    "liv = rels.loc[rels['type'] == 'lived-in']\n",
    "\n",
    "#all are callable but here is the lived-in relationship\n",
    "liv"
   ]
  },
  {
   "cell_type": "markdown",
   "metadata": {},
   "source": [
    "you'll notice in the 'passive' column of the chart above, there is a new id = p."
   ]
  },
  {
   "cell_type": "code",
   "execution_count": 24,
   "metadata": {},
   "outputs": [
    {
     "data": {
      "text/html": [
       "<div>\n",
       "<style>\n",
       "    .dataframe thead tr:only-child th {\n",
       "        text-align: right;\n",
       "    }\n",
       "\n",
       "    .dataframe thead th {\n",
       "        text-align: left;\n",
       "    }\n",
       "\n",
       "    .dataframe tbody tr th {\n",
       "        vertical-align: top;\n",
       "    }\n",
       "</style>\n",
       "<table border=\"1\" class=\"dataframe\">\n",
       "  <thead>\n",
       "    <tr style=\"text-align: right;\">\n",
       "      <th></th>\n",
       "      <th>ref</th>\n",
       "      <th>name</th>\n",
       "      <th>lat</th>\n",
       "      <th>long</th>\n",
       "    </tr>\n",
       "  </thead>\n",
       "  <tbody>\n",
       "    <tr>\n",
       "      <th>0</th>\n",
       "      <td>p1</td>\n",
       "      <td>Scetis</td>\n",
       "      <td>30.350000</td>\n",
       "      <td>30.200000</td>\n",
       "    </tr>\n",
       "    <tr>\n",
       "      <th>1</th>\n",
       "      <td>p2</td>\n",
       "      <td>Lycopolis</td>\n",
       "      <td>31.500000</td>\n",
       "      <td>30.570000</td>\n",
       "    </tr>\n",
       "    <tr>\n",
       "      <th>2</th>\n",
       "      <td>p4</td>\n",
       "      <td>Syria</td>\n",
       "      <td>37.500000</td>\n",
       "      <td>37.500000</td>\n",
       "    </tr>\n",
       "    <tr>\n",
       "      <th>3</th>\n",
       "      <td>p5</td>\n",
       "      <td>Palestine</td>\n",
       "      <td>32.500000</td>\n",
       "      <td>37.500000</td>\n",
       "    </tr>\n",
       "    <tr>\n",
       "      <th>4</th>\n",
       "      <td>p6</td>\n",
       "      <td>Iberia</td>\n",
       "      <td>41.836468</td>\n",
       "      <td>44.689138</td>\n",
       "    </tr>\n",
       "    <tr>\n",
       "      <th>5</th>\n",
       "      <td>p7</td>\n",
       "      <td>Eleutheropolis</td>\n",
       "      <td>31.612320</td>\n",
       "      <td>34.891945</td>\n",
       "    </tr>\n",
       "    <tr>\n",
       "      <th>6</th>\n",
       "      <td>p8</td>\n",
       "      <td>Egypt</td>\n",
       "      <td>30.200000</td>\n",
       "      <td>31.130000</td>\n",
       "    </tr>\n",
       "    <tr>\n",
       "      <th>7</th>\n",
       "      <td>p9</td>\n",
       "      <td>Pherme</td>\n",
       "      <td>30.776003</td>\n",
       "      <td>30.368868</td>\n",
       "    </tr>\n",
       "  </tbody>\n",
       "</table>\n",
       "</div>"
      ],
      "text/plain": [
       "    ref            name        lat       long\n",
       "0  p1    Scetis          30.350000  30.200000\n",
       "1  p2     Lycopolis      31.500000  30.570000\n",
       "2  p4     Syria          37.500000  37.500000\n",
       "3  p5    Palestine       32.500000  37.500000\n",
       "4  p6     Iberia         41.836468  44.689138\n",
       "5  p7    Eleutheropolis  31.612320  34.891945\n",
       "6  p8    Egypt           30.200000  31.130000\n",
       "7  p9    Pherme          30.776003  30.368868"
      ]
     },
     "execution_count": 24,
     "metadata": {},
     "output_type": "execute_result"
    }
   ],
   "source": [
    "#the id/name pairs for 'p'ids are stored in a csv we called earlier\n",
    "places.iloc[:15]"
   ]
  },
  {
   "cell_type": "markdown",
   "metadata": {},
   "source": [
    "##Map the monks"
   ]
  },
  {
   "cell_type": "code",
   "execution_count": 25,
   "metadata": {},
   "outputs": [
    {
     "data": {
      "text/plain": [
       "[30.776003000000003, 30.368868]"
      ]
     },
     "execution_count": 25,
     "metadata": {},
     "output_type": "execute_result"
    }
   ],
   "source": [
    "#make a list of locations using the lat and long columns\n",
    "locations = places[['lat', 'long']]\n",
    "locationlist = locations.values.tolist()\n",
    "len(locationlist)\n",
    "locationlist[7]"
   ]
  },
  {
   "cell_type": "code",
   "execution_count": 26,
   "metadata": {
    "scrolled": true
   },
   "outputs": [
    {
     "data": {
      "text/html": [
       "<div style=\"width:100%;\"><div style=\"position:relative;width:100%;height:0;padding-bottom:60%;\"><iframe src=\"data:text/html;charset=utf-8;base64,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\" style=\"position:absolute;width:100%;height:100%;left:0;top:0;border:none !important;\" allowfullscreen webkitallowfullscreen mozallowfullscreen></iframe></div></div>"
      ],
      "text/plain": [
       "<folium.folium.Map at 0x111adf9e8>"
      ]
     },
     "execution_count": 26,
     "metadata": {},
     "output_type": "execute_result"
    }
   ],
   "source": [
    "#use folium to make a map\n",
    "import folium\n",
    "map = folium.Map([37.1625575, 38.781432], tiles='CartoDB Positron', zoom_start=7)\n",
    "for point in range(0, len(locationlist)):\n",
    "    folium.Marker(locationlist[point], places['name'][point]).add_to(map)\n",
    "map\n",
    "                  "
   ]
  },
  {
   "cell_type": "code",
   "execution_count": null,
   "metadata": {
    "collapsed": true
   },
   "outputs": [],
   "source": []
  }
 ],
 "metadata": {
  "kernelspec": {
   "display_name": "Python 3",
   "language": "python",
   "name": "python3"
  },
  "language_info": {
   "codemirror_mode": {
    "name": "ipython",
    "version": 3
   },
   "file_extension": ".py",
   "mimetype": "text/x-python",
   "name": "python",
   "nbconvert_exporter": "python",
   "pygments_lexer": "ipython3",
   "version": "3.6.1"
  }
 },
 "nbformat": 4,
 "nbformat_minor": 2
}
