{
 "cells": [
  {
   "cell_type": "code",
   "execution_count": 1,
   "metadata": {
    "collapsed": true
   },
   "outputs": [],
   "source": [
    "from lxml import etree\n",
    "from lxml.etree import fromstring\n",
    "from io import StringIO, BytesIO\n",
    "import requests\n",
    "import pandas as pd\n",
    "import numpy as np"
   ]
  },
  {
   "cell_type": "code",
   "execution_count": 3,
   "metadata": {},
   "outputs": [],
   "source": [
    "import requests\n",
    "r = requests.get('https://raw.githubusercontent.com/alexvawter/dh-course-fall-2017/master/isaw-final/sodf-1.xml')\n",
    "alex = r.text"
   ]
  },
  {
   "cell_type": "code",
   "execution_count": 4,
   "metadata": {
    "collapsed": true
   },
   "outputs": [],
   "source": [
    "root = etree.fromstring(r.content)"
   ]
  },
  {
   "cell_type": "code",
   "execution_count": 5,
   "metadata": {
    "collapsed": true
   },
   "outputs": [],
   "source": [
    "it = etree.iterparse(BytesIO(r.content))\n",
    "for _, el in it:\n",
    "    if '}' in el.tag:\n",
    "        el.tag = el.tag.split('}', 1)[1]  # strip all namespaces {http://www.tei-c.org/ns/1.0}\n",
    "    if '}' in el.attrib:\n",
    "        el.attrib = el.tag.attrib.split('}', 1)[1]\n",
    "root = it.root"
   ]
  },
  {
   "cell_type": "markdown",
   "metadata": {},
   "source": [
    "I've isolated the relation element + printed attributes"
   ]
  },
  {
   "cell_type": "code",
   "execution_count": 8,
   "metadata": {},
   "outputs": [
    {
     "name": "stdout",
     "output_type": "stream",
     "text": [
      "{'type': 'conversation', 'name': 'monk', 'active': 'm1', 'passive': '#m2'}\n",
      "{'type': 'visit', 'name': 'vistor', 'active': '#g3', 'passive': 'm1'}\n"
     ]
    }
   ],
   "source": [
    "for relation in root.findall('.//relation'):\n",
    "    print(relation.attrib)"
   ]
  },
  {
   "cell_type": "markdown",
   "metadata": {},
   "source": [
    "I cannot get the horizontal header to not duplicate"
   ]
  },
  {
   "cell_type": "code",
   "execution_count": 10,
   "metadata": {},
   "outputs": [
    {
     "name": "stdout",
     "output_type": "stream",
     "text": [
      "  active  name passive          type\n",
      "0     m1  monk     #m2  conversation\n",
      "  active    name passive   type\n",
      "0    #g3  vistor      m1  visit\n"
     ]
    }
   ],
   "source": [
    "for relation in root.findall('.//relation'):\n",
    "    attrib = relation.attrib\n",
    "    data = dict(attrib)\n",
    "    df = pd.DataFrame(data,index=[0])\n",
    "    print(df)"
   ]
  }
 ],
 "metadata": {
  "kernelspec": {
   "display_name": "Python 3",
   "language": "python",
   "name": "python3"
  },
  "language_info": {
   "codemirror_mode": {
    "name": "ipython",
    "version": 3
   },
   "file_extension": ".py",
   "mimetype": "text/x-python",
   "name": "python",
   "nbconvert_exporter": "python",
   "pygments_lexer": "ipython3",
   "version": "3.6.1"
  }
 },
 "nbformat": 4,
 "nbformat_minor": 2
}
